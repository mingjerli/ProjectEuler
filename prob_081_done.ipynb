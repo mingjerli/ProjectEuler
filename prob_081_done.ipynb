{
 "cells": [
  {
   "cell_type": "code",
   "execution_count": 1,
   "metadata": {
    "collapsed": true
   },
   "outputs": [],
   "source": [
    "import numpy as np"
   ]
  },
  {
   "cell_type": "code",
   "execution_count": 2,
   "metadata": {
    "collapsed": false
   },
   "outputs": [],
   "source": [
    "data = np.genfromtxt('p081_matrix.txt',delimiter=\",\", dtype=\"int\")\n",
    "pathsum = np.zeros(data.shape)"
   ]
  },
  {
   "cell_type": "code",
   "execution_count": 3,
   "metadata": {
    "collapsed": false
   },
   "outputs": [],
   "source": [
    "Nx, Ny = data.shape"
   ]
  },
  {
   "cell_type": "code",
   "execution_count": 4,
   "metadata": {
    "collapsed": true
   },
   "outputs": [],
   "source": [
    "pathsum[Nx-1, Ny-1] = data[Nx-1, Ny-1]"
   ]
  },
  {
   "cell_type": "code",
   "execution_count": 5,
   "metadata": {
    "collapsed": true
   },
   "outputs": [],
   "source": [
    "for i in range(Nx-2, -1, -1):\n",
    "    pathsum[i, Ny-1] = pathsum[i+1, Ny-1]+data[i, Ny-1]\n",
    "\n",
    "for j in range(Ny-2, -1, -1):\n",
    "    pathsum[Nx-1, j] = pathsum[Nx-1, j+1]+data[Nx-1, j]"
   ]
  },
  {
   "cell_type": "code",
   "execution_count": 6,
   "metadata": {
    "collapsed": false
   },
   "outputs": [
    {
     "data": {
      "text/plain": [
       "array([[      0.,       0.,       0., ...,       0.,       0.,  406461.],\n",
       "       [      0.,       0.,       0., ...,       0.,       0.,  400591.],\n",
       "       [      0.,       0.,       0., ...,       0.,       0.,  391214.],\n",
       "       ..., \n",
       "       [      0.,       0.,       0., ...,       0.,       0.,   19064.],\n",
       "       [      0.,       0.,       0., ...,       0.,       0.,   13770.],\n",
       "       [ 405158.,  399854.,  394355., ...,   14138.,   11387.,    7981.]])"
      ]
     },
     "execution_count": 6,
     "metadata": {},
     "output_type": "execute_result"
    }
   ],
   "source": [
    "pathsum"
   ]
  },
  {
   "cell_type": "code",
   "execution_count": 7,
   "metadata": {
    "collapsed": false
   },
   "outputs": [],
   "source": [
    "for i in range(Nx+Ny-3, -1, -1):\n",
    "    for ix in range(Nx-2, -1, -1):\n",
    "        for iy in range(Ny-2, -1, -1):\n",
    "            if ix+iy==i:\n",
    "                pathsum[ix,iy] = data[ix,iy] + min(pathsum[ix+1,iy],pathsum[ix,iy+1])\n"
   ]
  },
  {
   "cell_type": "code",
   "execution_count": 8,
   "metadata": {
    "collapsed": false
   },
   "outputs": [
    {
     "data": {
      "text/plain": [
       "427337.0"
      ]
     },
     "execution_count": 8,
     "metadata": {},
     "output_type": "execute_result"
    }
   ],
   "source": [
    "pathsum[0,0]"
   ]
  },
  {
   "cell_type": "code",
   "execution_count": null,
   "metadata": {
    "collapsed": true
   },
   "outputs": [],
   "source": [
    "# 427337 correct solution"
   ]
  }
 ],
 "metadata": {
  "kernelspec": {
   "display_name": "Python [conda root]",
   "language": "python",
   "name": "conda-root-py"
  },
  "language_info": {
   "codemirror_mode": {
    "name": "ipython",
    "version": 3
   },
   "file_extension": ".py",
   "mimetype": "text/x-python",
   "name": "python",
   "nbconvert_exporter": "python",
   "pygments_lexer": "ipython3",
   "version": "3.5.2"
  }
 },
 "nbformat": 4,
 "nbformat_minor": 1
}
