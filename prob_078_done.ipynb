{
 "cells": [
  {
   "cell_type": "code",
   "execution_count": 1,
   "metadata": {
    "collapsed": true
   },
   "outputs": [],
   "source": [
    "import itertools\n",
    "from collections import defaultdict\n",
    "from time import time\n",
    "from math import sqrt"
   ]
  },
  {
   "cell_type": "code",
   "execution_count": 2,
   "metadata": {
    "collapsed": false
   },
   "outputs": [],
   "source": [
    "# def coinsplit(n):\n",
    "#     t0 = time()\n",
    "#     splits = [[1]]\n",
    "#     for i in range(2,n+1):\n",
    "#         newsplit1 = [s+[1] for s in splits]\n",
    "#         newsplit2 = list()\n",
    "#         for s in splits:\n",
    "#             for si in range(len(s)):\n",
    "#                 newsplit2.append(s[:si]+[s[si]+1]+s[(si+1):])\n",
    "#         splits = newsplit1+newsplit2\n",
    "#         for s in splits:\n",
    "#             s.sort()\n",
    "#         splits.sort()\n",
    "#         splits = list(k for k,_ in itertools.groupby(splits))\n",
    "#         print(i, len(splits), time()-t0)\n",
    "#     return(len(splits))\n",
    "# coinsplit(30)  "
   ]
  },
  {
   "cell_type": "code",
   "execution_count": 3,
   "metadata": {
    "collapsed": false
   },
   "outputs": [],
   "source": [
    "# t0=time()\n",
    "# found = False\n",
    "# i=2\n",
    "# while not found:\n",
    "#     nways = coinsplit(i)\n",
    "#     print(i, nways)\n",
    "#     if nways % (10**2) == 0:\n",
    "#         found = True\n",
    "#         print(\"found solution at\",i, nways,time()-t0)\n",
    "#     if i % 100 == 0:\n",
    "#         print(i, nways,time()-t0)\n",
    "#     i+=1\n"
   ]
  },
  {
   "cell_type": "code",
   "execution_count": 4,
   "metadata": {
    "collapsed": true
   },
   "outputs": [],
   "source": [
    "p = defaultdict(int)\n",
    "p[0] = 1\n",
    "p[1] = 1\n",
    "\n",
    "def coinsplit(n):\n",
    "    if p[n] != 0:\n",
    "        return(p[n])\n",
    "    result = 0\n",
    "    for k in range(int((1-sqrt(1+24*n))/6), int((1+sqrt(1+24*n))/6 +1)):\n",
    "        if k !=0:\n",
    "            gk = k*(3*k-1)//2\n",
    "            m = n - gk\n",
    "            sign = 1\n",
    "            if k%2==0:\n",
    "                sign = -1\n",
    "            if m == 0 or m ==1:\n",
    "                result += sign\n",
    "            elif m >1:\n",
    "                result += p[m] * sign\n",
    "    p[n] = result\n",
    "    return(result)\n",
    "    \n"
   ]
  },
  {
   "cell_type": "code",
   "execution_count": 5,
   "metadata": {
    "collapsed": false
   },
   "outputs": [
    {
     "name": "stdout",
     "output_type": "stream",
     "text": [
      "10000 36167251325636293988820471890953695495016030339315650422081868605887952568754066420592310556052906916435144 0.7256972789764404\n",
      "20000 252114813812529697916619533230470452281328949601811593436850314108034284423801564956623970731689824369192324789351994903016411826230578166735959242113097 1.8384428024291992\n",
      "30000 42963584246325385174883157483005920912690248645401139066014480612764163986215458185192990173314832179564211367228855321718015074490598095469727784182254987592569621576375743614022636192786 3.331543207168579\n",
      "40000 22807728274470728289340571240816959704646220378351611859439499408672657828590548093703330014605000554127042566412316061732771683740688051264237478893869163586426487354600342477491620506603389595232890082673857997469797 5.129166603088379\n",
      "50000 3626186097141667844592140891595633728165383082527785049015872755414109904256712082718122747316610565824630881772910217544261659239432670671532413858378256188987333877121891586607957389750538447474712592979263719012461858719791627302489739548263 7.36592435836792\n",
      "found solution at 55374 36325300925435785930832331577396761646715836173633893227071086460709268608053489541731404543537668438991170680745272159154493740615385823202158167635276250554555342115855424598920159035413044811245082197335097953570911884252410730174907784762924663654000000 8.598453521728516\n"
     ]
    }
   ],
   "source": [
    "t0=time()\n",
    "found = False\n",
    "i=2\n",
    "while not found:\n",
    "    nways = coinsplit(i)\n",
    "    if nways % (10**6) == 0:\n",
    "        found = True\n",
    "        print(\"found solution at\",i, nways,time()-t0)\n",
    "    if i % 10000 == 0:\n",
    "        print(i, nways,time()-t0)\n",
    "    i+=1\n"
   ]
  },
  {
   "cell_type": "code",
   "execution_count": null,
   "metadata": {
    "collapsed": true
   },
   "outputs": [],
   "source": []
  }
 ],
 "metadata": {
  "anaconda-cloud": {},
  "kernelspec": {
   "display_name": "Python [conda root]",
   "language": "python",
   "name": "conda-root-py"
  },
  "language_info": {
   "codemirror_mode": {
    "name": "ipython",
    "version": 3
   },
   "file_extension": ".py",
   "mimetype": "text/x-python",
   "name": "python",
   "nbconvert_exporter": "python",
   "pygments_lexer": "ipython3",
   "version": "3.5.2"
  }
 },
 "nbformat": 4,
 "nbformat_minor": 1
}
