{
 "cells": [
  {
   "cell_type": "code",
   "execution_count": 1,
   "metadata": {
    "collapsed": true
   },
   "outputs": [],
   "source": [
    "from time import time\n",
    "import numpy as np"
   ]
  },
  {
   "cell_type": "code",
   "execution_count": 2,
   "metadata": {
    "collapsed": false
   },
   "outputs": [
    {
     "name": "stdout",
     "output_type": "stream",
     "text": [
      "1 7\n",
      "2 49\n",
      "3 343\n",
      "4 2401\n",
      "5 16807\n",
      "6 117649\n",
      "7 823543\n",
      "8 5764801\n",
      "9 40353607\n",
      "10 282475249\n",
      "11 1977326743\n"
     ]
    }
   ],
   "source": [
    "done = False\n",
    "count = 0\n",
    "prod7 = 1\n",
    "while not done:\n",
    "    prod7 *= 7\n",
    "    count += 1\n",
    "    print(count,prod7)\n",
    "    if prod7 > 10 ** 9:\n",
    "        done=True\n",
    "\n",
    "        "
   ]
  },
  {
   "cell_type": "code",
   "execution_count": 3,
   "metadata": {
    "collapsed": false
   },
   "outputs": [
    {
     "name": "stdout",
     "output_type": "stream",
     "text": [
      "15 40 0.2727272727272727\n",
      "0.0006308555603027344\n",
      "2704 2346 0.5354455445544555\n",
      "0.04919886589050293\n",
      "384869 115631 0.768969030969031\n",
      "4.721606254577637\n"
     ]
    }
   ],
   "source": [
    "count = 0\n",
    "for n in range(1,4):\n",
    "    N = 10**n\n",
    "    t0 = time()\n",
    "    for i in range(1,N):\n",
    "        num7fac = sum([i//(7**k) for k in range(11)])\n",
    "        for n in range(1,i):\n",
    "            denum7fac = sum([(i-n)//(7**k) for k in range(11)]) + sum([n//(7**k) for k in range(11)])\n",
    "            count += int(num7fac>denum7fac)\n",
    "\n",
    "    print(count,int(N*(N+1)/2)-count, count/int(N*(N+1)/2))\n",
    "    print(time()-t0)"
   ]
  },
  {
   "cell_type": "code",
   "execution_count": 4,
   "metadata": {
    "collapsed": true
   },
   "outputs": [],
   "source": [
    "# looks like it will take a while to finish this for n = 9 i.e., N=10**9"
   ]
  },
  {
   "cell_type": "code",
   "execution_count": 5,
   "metadata": {
    "collapsed": false
   },
   "outputs": [
    {
     "name": "stdout",
     "output_type": "stream",
     "text": [
      "40 0.00045990943908691406\n"
     ]
    }
   ],
   "source": [
    "n=1\n",
    "\n",
    "t0 = time()\n",
    "N = 10**n\n",
    "M = np.array([sum([(i % (7**j)) == 0 for j in range(1,11)]) for i in range(N)])\n",
    "\n",
    "count = 0\n",
    "for i in range(1,int(N/2)):\n",
    "    wsum = M.cumsum()\n",
    "    wsum = wsum-wsum[0]\n",
    "    dsum = wsum[i]\n",
    "    wsum = wsum[i:]-wsum[:-i]\n",
    "    wsum = wsum[i:]\n",
    "    count += 2*sum(wsum[1:]>dsum) + int(wsum[0]>dsum)\n",
    "    if(i % 10**3 ==0):\n",
    "        print(i,count)\n",
    "\n",
    "print(int(N*(N+1)/2)-count,  time()-t0)"
   ]
  },
  {
   "cell_type": "code",
   "execution_count": 6,
   "metadata": {
    "collapsed": false
   },
   "outputs": [
    {
     "name": "stdout",
     "output_type": "stream",
     "text": [
      "40 15 0.0001468658447265625\n",
      "2361 2689 0.003386259078979492\n",
      "118335 382165 0.2548842430114746\n",
      "1000 15015879\n",
      "2000 27806127\n",
      "3000 36593671\n",
      "4000 41914859\n",
      "6264360 43740640 23.57283592224121\n"
     ]
    }
   ],
   "source": [
    "for n in range(1,5):\n",
    "    t0 = time()\n",
    "    N = 10**n\n",
    "    M = np.array([sum([(i % (7**j)) == 0 for j in range(1,11)]) for i in range(N)])\n",
    "\n",
    "    count = 0\n",
    "    for i in range(1,int(N/2)):\n",
    "        wsum = M.cumsum()\n",
    "        wsum = wsum-wsum[0]\n",
    "        dsum = wsum[i]\n",
    "        wsum = wsum[i:]-wsum[:-i]\n",
    "        wsum = wsum[i:]\n",
    "        count += 2*sum(wsum[1:]>dsum) + int(wsum[0]>dsum)\n",
    "        if(i % 10**3 ==0):\n",
    "            print(i,count)\n",
    "\n",
    "    print(int(N*(N+1)/2)-count,count,  time()-t0)"
   ]
  },
  {
   "cell_type": "code",
   "execution_count": 7,
   "metadata": {
    "collapsed": false
   },
   "outputs": [
    {
     "name": "stdout",
     "output_type": "stream",
     "text": [
      "21952 37044 10.224578142166138\n"
     ]
    }
   ],
   "source": [
    "count = 0\n",
    "N = 343\n",
    "t0 = time()\n",
    "\n",
    "for i in range(N):\n",
    "    M = np.array([sum([(i % (7**j)) == 0 for j in range(1,11)]) for i in range(N)])\n",
    "\n",
    "    count = 0\n",
    "    for i in range(1,int(N/2)):\n",
    "        wsum = M.cumsum()\n",
    "        wsum = wsum-wsum[0]\n",
    "        dsum = wsum[i]\n",
    "        wsum = wsum[i:]-wsum[:-i]\n",
    "        wsum = wsum[i:]\n",
    "        count += 2*sum(wsum[1:]>dsum) + int(wsum[0]>dsum)\n",
    "\n",
    "print(int(N*(N+1)/2)-count,count,  time()-t0)    "
   ]
  },
  {
   "cell_type": "code",
   "execution_count": 5,
   "metadata": {
    "collapsed": false
   },
   "outputs": [],
   "source": [
    "def sum7factor(n, verbose=False):\n",
    "    M = np.array([sum([(i % (7**j)) == 0 for j in range(1,11)]) for i in range(n)])\n",
    "    M[0] = 0\n",
    "    cumM = np.cumsum(M) \n",
    "    if verbose:\n",
    "        print(M)\n",
    "        print(cumM)\n",
    "        print(cumM[::-1])\n",
    "        print(cumM+cumM[::-1])\n",
    "    return(sum(cumM+cumM[::-1]==cumM[-1]))"
   ]
  },
  {
   "cell_type": "code",
   "execution_count": 6,
   "metadata": {
    "collapsed": false
   },
   "outputs": [
    {
     "data": {
      "text/plain": [
       "[7, 49, 343, 2401, 16807, 117649, 823543, 5764801, 40353607, 282475249]"
      ]
     },
     "execution_count": 6,
     "metadata": {},
     "output_type": "execute_result"
    }
   ],
   "source": [
    "power7s = [7**i for i in range(1,11)]\n",
    "power7s"
   ]
  },
  {
   "cell_type": "code",
   "execution_count": 4,
   "metadata": {
    "collapsed": true
   },
   "outputs": [],
   "source": [
    "def sum7factor2(n, verbose=False):\n",
    "    base = (n-1)%7 + 1\n",
    "    power7ss = [p for p in power7s if n>=p][::-1]\n",
    "    tempn = n\n",
    "    fact = 1\n",
    "    for p in power7ss:\n",
    "        fact *= (tempn-1)//p + 1\n",
    "        tempn = (tempn-1)%p +1\n",
    "    return(base*fact)"
   ]
  },
  {
   "cell_type": "code",
   "execution_count": 47,
   "metadata": {
    "collapsed": false
   },
   "outputs": [],
   "source": [
    "def comparemethod(n):\n",
    "    return(n,sum7factor(n),sum7factor2(n))"
   ]
  },
  {
   "cell_type": "code",
   "execution_count": 48,
   "metadata": {
    "collapsed": false,
    "scrolled": false
   },
   "outputs": [],
   "source": [
    "for i in range(7,1000):\n",
    "    result = comparemethod(i)\n",
    "    if result[1] != result[2]:\n",
    "        print(result)"
   ]
  },
  {
   "cell_type": "code",
   "execution_count": 56,
   "metadata": {
    "collapsed": false
   },
   "outputs": [
    {
     "data": {
      "text/plain": [
       "118335"
      ]
     },
     "execution_count": 56,
     "metadata": {},
     "output_type": "execute_result"
    }
   ],
   "source": [
    "sum([sum7factor(i+1) for i in range(1000)])"
   ]
  },
  {
   "cell_type": "code",
   "execution_count": 57,
   "metadata": {
    "collapsed": false
   },
   "outputs": [
    {
     "data": {
      "text/plain": [
       "118335"
      ]
     },
     "execution_count": 57,
     "metadata": {},
     "output_type": "execute_result"
    }
   ],
   "source": [
    "sum([sum7factor2(i+1) for i in range(1000)])"
   ]
  },
  {
   "cell_type": "code",
   "execution_count": 62,
   "metadata": {
    "collapsed": false
   },
   "outputs": [
    {
     "data": {
      "text/plain": [
       "788306648416"
      ]
     },
     "execution_count": 62,
     "metadata": {},
     "output_type": "execute_result"
    }
   ],
   "source": [
    "sum([sum7factor2(i+1) for i in range(10**7)])"
   ]
  },
  {
   "cell_type": "code",
   "execution_count": 65,
   "metadata": {
    "collapsed": false
   },
   "outputs": [
    {
     "name": "stdout",
     "output_type": "stream",
     "text": [
      "2.841756582260132\n"
     ]
    }
   ],
   "source": [
    "resultsum = 0\n",
    "t0 = time()\n",
    "for i in range(10**6):\n",
    "    resultsum +=sum7factor2(i+1)\n",
    "print(time()-t0)"
   ]
  },
  {
   "cell_type": "code",
   "execution_count": 67,
   "metadata": {
    "collapsed": false
   },
   "outputs": [
    {
     "name": "stdout",
     "output_type": "stream",
     "text": [
      "2.7708754539489746\n"
     ]
    }
   ],
   "source": [
    "t0 = time()\n",
    "sum([sum7factor2(i+1) for i in range(10**6)])\n",
    "print(time()-t0)"
   ]
  },
  {
   "cell_type": "code",
   "execution_count": 66,
   "metadata": {
    "collapsed": false
   },
   "outputs": [
    {
     "name": "stdout",
     "output_type": "stream",
     "text": [
      "15.415102243423462\n"
     ]
    }
   ],
   "source": [
    "resultsum = 0\n",
    "t0 = time()\n",
    "for i in range(5*10**6):\n",
    "    resultsum +=sum7factor2(i+1)\n",
    "print(time()-t0)"
   ]
  },
  {
   "cell_type": "code",
   "execution_count": 68,
   "metadata": {
    "collapsed": false
   },
   "outputs": [
    {
     "name": "stdout",
     "output_type": "stream",
     "text": [
      "14.917617321014404\n"
     ]
    }
   ],
   "source": [
    "t0 = time()\n",
    "sum([sum7factor2(i+1) for i in range(5*10**6)])\n",
    "print(time()-t0)"
   ]
  },
  {
   "cell_type": "code",
   "execution_count": 69,
   "metadata": {
    "collapsed": false
   },
   "outputs": [
    {
     "name": "stdout",
     "output_type": "stream",
     "text": [
      "31.945624589920044\n"
     ]
    }
   ],
   "source": [
    "t0 = time()\n",
    "sum([sum7factor2(i+1) for i in range(10**7)])\n",
    "print(time()-t0)"
   ]
  },
  {
   "cell_type": "code",
   "execution_count": 70,
   "metadata": {
    "collapsed": false
   },
   "outputs": [
    {
     "name": "stdout",
     "output_type": "stream",
     "text": [
      "171.40233302116394\n"
     ]
    }
   ],
   "source": [
    "t0 = time()\n",
    "sum([sum7factor2(i+1) for i in range(5*10**7)])\n",
    "print(time()-t0)"
   ]
  },
  {
   "cell_type": "code",
   "execution_count": 7,
   "metadata": {
    "collapsed": false
   },
   "outputs": [
    {
     "name": "stdout",
     "output_type": "stream",
     "text": [
      "0 6.628036499023438e-05\n",
      "10000000 33.296807527542114\n",
      "20000000 68.7334234714508\n",
      "30000000 104.00083184242249\n",
      "40000000 140.82722806930542\n",
      "50000000 180.55312037467957\n",
      "60000000 220.23563027381897\n",
      "70000000 258.77264976501465\n",
      "80000000 297.50420355796814\n",
      "90000000 335.562664270401\n",
      "100000000 374.1381573677063\n",
      "110000000 412.79478192329407\n",
      "120000000 451.4464933872223\n",
      "130000000 489.5793459415436\n",
      "140000000 528.3801996707916\n",
      "150000000 567.2820150852203\n",
      "160000000 605.8859431743622\n",
      "170000000 644.0937156677246\n",
      "180000000 682.6814346313477\n",
      "190000000 721.4792408943176\n",
      "200000000 760.1953778266907\n",
      "210000000 798.3185141086578\n",
      "220000000 836.968905210495\n",
      "230000000 875.7323138713837\n",
      "240000000 914.4970512390137\n",
      "250000000 952.8940463066101\n",
      "260000000 991.6532924175262\n",
      "270000000 1030.6500053405762\n",
      "280000000 1069.4782824516296\n",
      "290000000 1112.264690876007\n",
      "300000000 1161.6984221935272\n",
      "310000000 1206.6656308174133\n",
      "320000000 1248.0331518650055\n",
      "330000000 1288.6937656402588\n",
      "340000000 1330.1036565303802\n",
      "350000000 1371.572872877121\n",
      "360000000 1413.4094197750092\n",
      "370000000 1455.5712006092072\n",
      "380000000 1497.99214553833\n",
      "390000000 1540.2964324951172\n",
      "400000000 1581.8058400154114\n",
      "410000000 1622.967958688736\n",
      "420000000 1664.471119403839\n",
      "430000000 1705.9090871810913\n",
      "440000000 1747.5123300552368\n",
      "450000000 1788.7426874637604\n",
      "460000000 1830.1603038311005\n",
      "470000000 1871.7998123168945\n",
      "480000000 1913.5579707622528\n",
      "490000000 1954.9650073051453\n",
      "500000000 1996.3682911396027\n",
      "510000000 2037.9661803245544\n",
      "520000000 2079.8263545036316\n",
      "530000000 2121.245470762253\n",
      "540000000 2163.12722492218\n",
      "550000000 2205.242006778717\n",
      "560000000 2247.2672803401947\n",
      "570000000 2288.2547845840454\n",
      "580000000 2329.070065021515\n",
      "590000000 2369.7508997917175\n",
      "600000000 2411.622181415558\n",
      "610000000 2452.903258085251\n",
      "620000000 2494.3838078975677\n",
      "630000000 2535.738028526306\n",
      "640000000 2577.2359454631805\n",
      "650000000 2618.3826744556427\n",
      "660000000 2659.8252782821655\n",
      "670000000 2701.288190841675\n",
      "680000000 2743.030736923218\n",
      "690000000 2784.357827425003\n",
      "700000000 2825.801218509674\n",
      "710000000 2867.3483273983\n",
      "720000000 2909.0186245441437\n",
      "730000000 2950.408080816269\n",
      "740000000 2991.841742515564\n",
      "750000000 3033.429200410843\n",
      "760000000 3075.585741519928\n",
      "770000000 3117.2082045078278\n",
      "780000000 3158.6382529735565\n",
      "790000000 3200.4984395504\n",
      "800000000 3242.2250397205353\n",
      "810000000 3283.67969417572\n",
      "820000000 3325.287674188614\n",
      "830000000 3367.4626138210297\n",
      "840000000 3409.367650985718\n",
      "850000000 3450.6405198574066\n",
      "860000000 3491.0837399959564\n",
      "870000000 3531.8242015838623\n",
      "880000000 3572.6845703125\n",
      "890000000 3613.458134174347\n",
      "900000000 3654.6982922554016\n",
      "910000000 3696.3721034526825\n",
      "920000000 3737.8975343704224\n",
      "930000000 3779.393745660782\n",
      "940000000 3820.6789376735687\n",
      "950000000 3862.2868287563324\n",
      "960000000 3903.897472143173\n",
      "970000000 3945.6975293159485\n",
      "980000000 3987.149003982544\n",
      "990000000 4028.695261478424\n",
      "4070.3122215270996\n"
     ]
    }
   ],
   "source": [
    "resultsum = 0\n",
    "t0 = time()\n",
    "for i in range(10**9):\n",
    "    if i% 10**7 ==0:\n",
    "        print(i, time()-t0)\n",
    "    resultsum +=sum7factor2(i+1)\n",
    "print(time()-t0)"
   ]
  },
  {
   "cell_type": "code",
   "execution_count": 8,
   "metadata": {
    "collapsed": false
   },
   "outputs": [
    {
     "data": {
      "text/plain": [
       "2129970655314432"
      ]
     },
     "execution_count": 8,
     "metadata": {},
     "output_type": "execute_result"
    }
   ],
   "source": [
    "# Correct Solution!\n",
    "resultsum"
   ]
  },
  {
   "cell_type": "code",
   "execution_count": 9,
   "metadata": {
    "collapsed": true
   },
   "outputs": [],
   "source": [
    "N = 10**9"
   ]
  },
  {
   "cell_type": "code",
   "execution_count": 10,
   "metadata": {
    "collapsed": false
   },
   "outputs": [
    {
     "data": {
      "text/plain": [
       "497870029844685568"
      ]
     },
     "execution_count": 10,
     "metadata": {},
     "output_type": "execute_result"
    }
   ],
   "source": [
    "N*(N+1)//2-resultsum"
   ]
  },
  {
   "cell_type": "code",
   "execution_count": null,
   "metadata": {
    "collapsed": true
   },
   "outputs": [],
   "source": []
  }
 ],
 "metadata": {
  "anaconda-cloud": {},
  "kernelspec": {
   "display_name": "Python [conda root]",
   "language": "python",
   "name": "conda-root-py"
  },
  "language_info": {
   "codemirror_mode": {
    "name": "ipython",
    "version": 3
   },
   "file_extension": ".py",
   "mimetype": "text/x-python",
   "name": "python",
   "nbconvert_exporter": "python",
   "pygments_lexer": "ipython3",
   "version": "3.5.2"
  }
 },
 "nbformat": 4,
 "nbformat_minor": 1
}
