{
 "cells": [
  {
   "cell_type": "code",
   "execution_count": 16,
   "metadata": {
    "collapsed": true
   },
   "outputs": [],
   "source": [
    "from math import sqrt\n",
    "from time import time\n",
    "from collections import defaultdict"
   ]
  },
  {
   "cell_type": "code",
   "execution_count": 30,
   "metadata": {
    "collapsed": false
   },
   "outputs": [
    {
     "name": "stdout",
     "output_type": "stream",
     "text": [
      "11.082384824752808\n",
      "1051883\n",
      "17.968820095062256\n"
     ]
    }
   ],
   "source": [
    "N = 10**8\n",
    "r = 4\n",
    "\n",
    "t0 = time()\n",
    "N_max = int(sqrt(N))\n",
    "kcount = [0 for _ in range(N+1)]\n",
    "# kcount = defaultdict(int)\n",
    "for n in range(2, N_max+1):\n",
    "    n2 = n*n\n",
    "    ks = [n2+a*(n-a) for a in range(n//2+1,n)]\n",
    "    for k in ks:\n",
    "        if k< N:\n",
    "            kcount[k]+=1\n",
    "print(time()-t0)\n",
    "print(sum([x==r for x in kcount]))\n",
    "# print(sum([x==r for x in kcount.values()]))\n",
    "print(time()-t0)"
   ]
  },
  {
   "cell_type": "code",
   "execution_count": 33,
   "metadata": {
    "collapsed": false
   },
   "outputs": [
    {
     "name": "stdout",
     "output_type": "stream",
     "text": [
      "482.5939419269562\n",
      "482.59406208992004\n"
     ]
    }
   ],
   "source": [
    "N = 10**10\n",
    "r = 6\n",
    "\n",
    "t0 = time()\n",
    "N_max = int(sqrt(N))\n",
    "# kcount = defaultdict(int)\n",
    "# kcount = [0 for _ in range(N+1)]\n",
    "for n in range(2, N_max+1):\n",
    "    n2 = n*n\n",
    "    for a in range(n//2+1, n):\n",
    "        ks = n2+a*(n-a)\n",
    "#         kcount[ks] +=1\n",
    "    b = n//2+1\n",
    "#     ks = [n2+a*(n-a) for a in range(n//2+1,n)]\n",
    "#     for k in ks:\n",
    "#         if k< N:\n",
    "#             kcount[k]+=1\n",
    "print(time()-t0)\n",
    "# print(sum([x==r for x in kcount]))\n",
    "print(time()-t0)"
   ]
  },
  {
   "cell_type": "code",
   "execution_count": 34,
   "metadata": {
    "collapsed": false
   },
   "outputs": [
    {
     "name": "stdout",
     "output_type": "stream",
     "text": [
      "137.09387135505676\n",
      "668461\n",
      "147.03206396102905\n"
     ]
    }
   ],
   "source": [
    "N = 10**9\n",
    "r = 6\n",
    "\n",
    "t0 = time()\n",
    "N_max = int(sqrt(N))\n",
    "kcount = defaultdict(int)\n",
    "\n",
    "subodd = [i+i*i for i in range(N_max//2+1)]\n",
    "subeven = [i+i+i*i for i in range(N_max//2+1)]\n",
    "\n",
    "for n1 in range(1, N_max//2+1):\n",
    "    n = n1+n1+1\n",
    "    n2 = n*n\n",
    "#     a = n1+1\n",
    "    b = n1\n",
    "    ab = n1*n1+n1\n",
    "    ab +=n2\n",
    "    ks = [ab-subodd[i] for i in range(b)]\n",
    "    for k in ks:\n",
    "        if k< N:\n",
    "            kcount[k]+=1\n",
    "#     ks = [ab-i-i*i for i in range(b)]\n",
    "    \n",
    "for n1 in range(2, N_max//2+1):\n",
    "    n = n1+n1\n",
    "    n2 = n*n\n",
    "#     a = n1+1\n",
    "    b = n1-1\n",
    "    ab = n1*n1-1\n",
    "    ab +=n2\n",
    "    ks = [ab-subeven[i] for i in range(b)]\n",
    "    for k in ks:\n",
    "        if k< N:\n",
    "            kcount[k]+=1\n",
    "#     ks = [ab-i-i-i*i for i in range(b)]\n",
    "\n",
    "\n",
    "# for n in range(2, N_max+1):\n",
    "#     n2 = n*n\n",
    "#     a=n//2+1\n",
    "#     b=n-a\n",
    "#     pass\n",
    "#     ks = [n2+a*(n-a) for a in range(n//2+1,n)]\n",
    "#     for k in ks:\n",
    "#         if k< N:\n",
    "#             kcount[k]+=1\n",
    "print(time()-t0)\n",
    "print(sum([ x==r for x in list(kcount.values())]))\n",
    "print(time()-t0)"
   ]
  },
  {
   "cell_type": "code",
   "execution_count": 4,
   "metadata": {
    "collapsed": false
   },
   "outputs": [
    {
     "name": "stdout",
     "output_type": "stream",
     "text": [
      "237\n",
      "59517\n"
     ]
    }
   ],
   "source": [
    "def f(N,r):\n",
    "    N_max = int(sqrt(N))\n",
    "    kcount = [0 for _ in range(N+1)]\n",
    "    for n in range(2, N_max+1):\n",
    "        n2 = n*n\n",
    "        ks = [n2+a*(n-a) for a in range(n//2+1,n)]\n",
    "        for k in ks:\n",
    "            if k< N:\n",
    "                kcount[k]+=1\n",
    "    return(sum([x==r for x in kcount]))\n",
    "\n",
    "print(f(10**5, 4)) # match hint\n",
    "print(f(10**8, 6)) # match hint"
   ]
  },
  {
   "cell_type": "code",
   "execution_count": 5,
   "metadata": {
    "collapsed": false
   },
   "outputs": [
    {
     "name": "stdout",
     "output_type": "stream",
     "text": [
      "6.789003610610962\n",
      "12.300766468048096\n"
     ]
    }
   ],
   "source": [
    "N = 10**8\n",
    "\n",
    "t0 = time()\n",
    "N_max = int(sqrt(N))\n",
    "kcount = [0 for _ in range(N+1)]\n",
    "for n in range(2, N_max+1):\n",
    "    n2 = n*n\n",
    "    ks = [n2+a*(n-a) for a in range(n//2+1,n)]\n",
    "#     for k in ks:\n",
    "#         if k< N:\n",
    "#             kcount[k]+=1\n",
    "print(time()-t0)\n",
    "\n",
    "\n",
    "t0 = time()\n",
    "N_max = int(sqrt(N))\n",
    "kcount = [0 for _ in range(N+1)]\n",
    "for n in range(2, N_max+1):\n",
    "    n2 = n*n\n",
    "    ks = [n2+a*(n-a) for a in range(n//2+1,n)]\n",
    "    for k in ks:\n",
    "        if k< N:\n",
    "            kcount[k]+=1\n",
    "print(time()-t0)\n"
   ]
  },
  {
   "cell_type": "code",
   "execution_count": 6,
   "metadata": {
    "collapsed": false
   },
   "outputs": [],
   "source": [
    "# N = 10**9\n",
    "\n",
    "# t0 = time()\n",
    "# N_max = int(sqrt(N))\n",
    "# kcount = [0 for _ in range(N+1)]\n",
    "# for n in range(2, N_max+1):\n",
    "#     n2 = n*n\n",
    "#     ks = [n2+a*(n-a) for a in range(n//2+1,n)]\n",
    "# #     for k in ks:\n",
    "# #         if k< N:\n",
    "# #             kcount[k]+=1\n",
    "# print(time()-t0) # ~70 sec\n",
    "\n",
    "# t0 = time()\n",
    "# N_max = int(sqrt(N))\n",
    "# kcount = [0 for _ in range(N+1)]\n",
    "# for n in range(2, N_max+1):\n",
    "#     n2 = n*n\n",
    "#     ks = [n2+a*(n-a) for a in range(n//2+1,n)]\n",
    "#     for k in ks:\n",
    "#         if k< N:\n",
    "#             kcount[k]+=1\n",
    "# print(time()-t0) # ~150 sec"
   ]
  },
  {
   "cell_type": "code",
   "execution_count": 7,
   "metadata": {
    "collapsed": true
   },
   "outputs": [],
   "source": [
    "# Expect runtime for 10**15 is at least 70* 10**6 second about 100 days ...."
   ]
  },
  {
   "cell_type": "code",
   "execution_count": null,
   "metadata": {
    "collapsed": true
   },
   "outputs": [],
   "source": []
  }
 ],
 "metadata": {
  "kernelspec": {
   "display_name": "Python [conda root]",
   "language": "python",
   "name": "conda-root-py"
  },
  "language_info": {
   "codemirror_mode": {
    "name": "ipython",
    "version": 3
   },
   "file_extension": ".py",
   "mimetype": "text/x-python",
   "name": "python",
   "nbconvert_exporter": "python",
   "pygments_lexer": "ipython3",
   "version": "3.5.2"
  }
 },
 "nbformat": 4,
 "nbformat_minor": 1
}
