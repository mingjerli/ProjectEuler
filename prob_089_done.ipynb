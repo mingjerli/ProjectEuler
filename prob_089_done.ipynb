{
 "cells": [
  {
   "cell_type": "code",
   "execution_count": 1,
   "metadata": {
    "collapsed": true
   },
   "outputs": [],
   "source": [
    "import re"
   ]
  },
  {
   "cell_type": "markdown",
   "metadata": {},
   "source": [
    "Traditional Roman numerals are made up of the following denominations:\n",
    "\n",
    "* I = 1\n",
    "* V = 5\n",
    "* X = 10\n",
    "* L = 50\n",
    "* C = 100\n",
    "* D = 500\n",
    "* M = 1000\n",
    "\n",
    "In order for a number written in Roman numerals to be considered valid there are three basic rules which must be followed.\n",
    "\n",
    "* Numerals must be arranged in descending order of size.\n",
    "* M, C, and X cannot be equalled or exceeded by smaller denominations.\n",
    "* D, L, and V can each only appear once.\n",
    "\n",
    "In addition to the three rules given above, if subtractive combinations are used then the following four rules must be followed.\n",
    "\n",
    "* Only one I, X, and C can be used as the leading numeral in part of a subtractive pair.\n",
    "* I can only be placed before V and X.\n",
    "* X can only be placed before L and C.\n",
    "* C can only be placed before D and M."
   ]
  },
  {
   "cell_type": "code",
   "execution_count": 2,
   "metadata": {
    "collapsed": false
   },
   "outputs": [],
   "source": [
    "def roman2num(s):\n",
    "    import re\n",
    "    romankeyval1 = {'I':1,'V':5,'X':10,'L':50,'C':100,'D':500,'M':1000}\n",
    "    romankeyval2 = {'IV':4,'IX':9,'XL':40,'XC':90,'CD':400,'CM':900}\n",
    "    romanstr = s\n",
    "    result = 0\n",
    "    \n",
    "    for k in romankeyval2.keys():\n",
    "        m = re.search(k,romanstr)\n",
    "        while m is not None:\n",
    "            result += romankeyval2[k]\n",
    "            romanstr = romanstr[:m.start()]+romanstr[m.end():] \n",
    "            m = re.search(k,romanstr)\n",
    "#             print(romanstr, k, result)\n",
    "\n",
    "    for k in romankeyval1.keys():\n",
    "        m = re.search(k,romanstr)\n",
    "        while m is not None:\n",
    "            result += romankeyval1[k]\n",
    "            romanstr = romanstr[:m.start()]+romanstr[m.end():] \n",
    "            m = re.search(k,romanstr)\n",
    "#             print(romanstr, k, result)\n",
    "            \n",
    "    return(result)"
   ]
  },
  {
   "cell_type": "code",
   "execution_count": 3,
   "metadata": {
    "collapsed": true
   },
   "outputs": [],
   "source": [
    "def num2roman(i):\n",
    "    numkeyval = {'1':'I','4':'IV','5':'V','9':'IX','10':'X','40':'XL','50':'L','90':'XC','100':'C','400':'CD','500':'D','900':'CM','1000':'M'}\n",
    "    ks = [int(x) for x in numkeyval.keys()]\n",
    "    ks = sorted(ks, reverse=True)\n",
    "    result = ''\n",
    "    for k in ks:\n",
    "        result += numkeyval[str(k)]*(i//k)\n",
    "        i = i%k\n",
    "#         print(i,k,result)\n",
    "    return(result)"
   ]
  },
  {
   "cell_type": "code",
   "execution_count": 4,
   "metadata": {
    "collapsed": true
   },
   "outputs": [],
   "source": [
    "\n",
    "with open('p089_roman.txt','r') as f:\n",
    "    content = f.readlines()\n",
    "\n",
    "content = [x.strip() for x in content]\n",
    "vals = [roman2num(x) for x in content]\n",
    "content2 = [num2roman(x) for x in vals]\n"
   ]
  },
  {
   "cell_type": "code",
   "execution_count": 5,
   "metadata": {
    "collapsed": false
   },
   "outputs": [
    {
     "name": "stdout",
     "output_type": "stream",
     "text": [
      "743\n"
     ]
    }
   ],
   "source": [
    "len1 = 0\n",
    "len2 = 0\n",
    "for i in range(len(content)):\n",
    "    len1 += len(content[i])\n",
    "    len2 += len(content2[i])\n",
    "\n",
    "print(len1-len2)"
   ]
  },
  {
   "cell_type": "code",
   "execution_count": null,
   "metadata": {
    "collapsed": true
   },
   "outputs": [],
   "source": [
    "# 743 correct solution"
   ]
  }
 ],
 "metadata": {
  "anaconda-cloud": {},
  "kernelspec": {
   "display_name": "Python [conda root]",
   "language": "python",
   "name": "conda-root-py"
  },
  "language_info": {
   "codemirror_mode": {
    "name": "ipython",
    "version": 3
   },
   "file_extension": ".py",
   "mimetype": "text/x-python",
   "name": "python",
   "nbconvert_exporter": "python",
   "pygments_lexer": "ipython3",
   "version": "3.5.2"
  }
 },
 "nbformat": 4,
 "nbformat_minor": 1
}
