{
 "cells": [
  {
   "cell_type": "code",
   "execution_count": 1,
   "metadata": {
    "collapsed": true
   },
   "outputs": [],
   "source": [
    "from collections import Counter, defaultdict\n",
    "import random"
   ]
  },
  {
   "cell_type": "code",
   "execution_count": 2,
   "metadata": {
    "collapsed": true
   },
   "outputs": [],
   "source": [
    "random.seed(12)"
   ]
  },
  {
   "cell_type": "code",
   "execution_count": 3,
   "metadata": {
    "collapsed": true
   },
   "outputs": [],
   "source": [
    "# Dice setup\n",
    "Nside = 4\n",
    "Dice= range(1,Nside+1)\n",
    "Dicesum = [(i+j) for i in Dice for j in Dice]\n",
    "lenDicesum = len(Dicesum)\n",
    "\n",
    "# Map setup\n",
    "Map = ['GO','A1','CC1','A2','T1','R1','B1','CH1','B2','B3',\n",
    "      'JAIL','C1','U1','C2','C3','R2','D1','CC2','D2','D3',\n",
    "      'FP','E1','CH2','E2','E3','R3','F1','F2','U2','F3',\n",
    "      'G2J','G1','G2','CC3','G3','R4','CH3','H1','T2','H2']\n",
    "lenMap = len(Map)"
   ]
  },
  {
   "cell_type": "code",
   "execution_count": 4,
   "metadata": {
    "collapsed": true
   },
   "outputs": [],
   "source": [
    "Nround = 10**5\n",
    "locationCounter = [0 for _ in range(lenMap)]"
   ]
  },
  {
   "cell_type": "code",
   "execution_count": 5,
   "metadata": {
    "collapsed": true
   },
   "outputs": [],
   "source": [
    "# Community Chest (2/16 cards):\n",
    "# Advance to GO\n",
    "# Go to JAIL\n",
    "# Chance (10/16 cards):\n",
    "# Advance to GO\n",
    "# Go to JAIL\n",
    "# Go to C1\n",
    "# Go to E3\n",
    "# Go to H2\n",
    "# Go to R1\n",
    "# Go to next R (railway company)\n",
    "# Go to next R\n",
    "# Go to next U (utility company)\n",
    "# Go back 3 squares."
   ]
  },
  {
   "cell_type": "code",
   "execution_count": 6,
   "metadata": {
    "collapsed": false
   },
   "outputs": [],
   "source": [
    "CCKeys = ['toGO','toJAIL']\n",
    "CCValues = random.sample(range(16),len(CCKeys))\n",
    "CCDict = dict(zip(CCKeys,CCValues))\n",
    "CCcounter = 0\n",
    "CHKeys = ['toGO','toJAIL','toC1','toE3','toH2','toR1','toNR1','toNR2','toNU','back3']\n",
    "CHValues = random.sample(range(16),len(CHKeys))\n",
    "CHDict = dict(zip(CHKeys,CHValues))\n",
    "CHcounter = 0"
   ]
  },
  {
   "cell_type": "code",
   "execution_count": 7,
   "metadata": {
    "collapsed": true
   },
   "outputs": [],
   "source": [
    "location = 0\n",
    "doublecount = 0\n",
    "for i in range(Nround):\n",
    "    location = location%lenMap\n",
    "    if Map[location] in ['CC1','CC2','CC3']:\n",
    "        if CCcounter == CCDict['toGO']:\n",
    "            location = 0\n",
    "        if CCcounter == CCDict['toJAIL']:\n",
    "            location = 10\n",
    "        CCcounter = (CCcounter+1)%16\n",
    "\n",
    "    if Map[location] in ['CH1','CH2','CH3']:\n",
    "        if CHcounter == CHDict['toGO']:\n",
    "            location = 0\n",
    "        if CHcounter == CHDict['toJAIL']:\n",
    "            location = 10\n",
    "        if CHcounter == CHDict['toC1']:\n",
    "            location = 11\n",
    "        if CHcounter == CHDict['toE3']:\n",
    "            location = 24\n",
    "        if CHcounter == CHDict['toH2']:\n",
    "            location = 39\n",
    "        if CHcounter == CHDict['toR1']:\n",
    "            location = 5\n",
    "        if CHcounter == CHDict['toNR1'] or CHcounter == CHDict['toNR2']:\n",
    "            location = ((location//10) * 10 + 15) % lenMap\n",
    "        if CHcounter == CHDict['toNU']:\n",
    "            if Map[location] == 'CH2':\n",
    "                location = 28\n",
    "            else:\n",
    "                location = 12\n",
    "        if CHcounter == CHDict['back3']:\n",
    "            location -= 3\n",
    "            location = location%lenMap\n",
    "        CHcounter = (CHcounter+1)%16\n",
    "\n",
    "    if location == 30:\n",
    "        location = 10\n",
    "    location = location%lenMap\n",
    "    locationCounter[location] +=1\n",
    "    \n",
    "    Dice1 = random.sample(Dice,1)\n",
    "    Dice2 = random.sample(Dice,1)\n",
    "    if Dice1 == Dice2:\n",
    "        doublecount += 1\n",
    "    else:\n",
    "        doublecount = 0\n",
    "    \n",
    "    if doublecount == 3:\n",
    "        location = 10\n",
    "        locationCounter[location] +=1\n",
    "        doublecount = 0\n",
    "        \n",
    "    location += Dicesum[random.randrange(lenDicesum)]"
   ]
  },
  {
   "cell_type": "code",
   "execution_count": 8,
   "metadata": {
    "collapsed": false
   },
   "outputs": [
    {
     "name": "stdout",
     "output_type": "stream",
     "text": [
      "10 7007\n",
      "15 3674\n",
      "24 3350\n"
     ]
    }
   ],
   "source": [
    "locationCounter\n",
    "sortedlocationCounter = sorted(locationCounter, reverse=True)\n",
    "for i in range(3):\n",
    "    print(locationCounter.index(sortedlocationCounter[i]), sortedlocationCounter[i])"
   ]
  },
  {
   "cell_type": "code",
   "execution_count": null,
   "metadata": {
    "collapsed": true
   },
   "outputs": [],
   "source": [
    "# 101524 correct solution @ 20170331 12:25 pm"
   ]
  }
 ],
 "metadata": {
  "anaconda-cloud": {},
  "kernelspec": {
   "display_name": "Python [conda root]",
   "language": "python",
   "name": "conda-root-py"
  },
  "language_info": {
   "codemirror_mode": {
    "name": "ipython",
    "version": 3
   },
   "file_extension": ".py",
   "mimetype": "text/x-python",
   "name": "python",
   "nbconvert_exporter": "python",
   "pygments_lexer": "ipython3",
   "version": "3.5.2"
  }
 },
 "nbformat": 4,
 "nbformat_minor": 1
}
