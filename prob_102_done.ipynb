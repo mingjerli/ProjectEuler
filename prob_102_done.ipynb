{
 "cells": [
  {
   "cell_type": "code",
   "execution_count": 42,
   "metadata": {
    "collapsed": true
   },
   "outputs": [],
   "source": [
    "import numpy as np\n",
    "import pandas as pd"
   ]
  },
  {
   "cell_type": "code",
   "execution_count": 81,
   "metadata": {
    "collapsed": false
   },
   "outputs": [],
   "source": [
    "data = np.genfromtxt('p102_triangles.txt',delimiter=\",\", dtype=\"int\")\n",
    "data = pd.DataFrame(data, columns=[x+str(i) for i in [1,2,3] for x in ['x','y'] ], dtype=np.float64)"
   ]
  },
  {
   "cell_type": "code",
   "execution_count": 87,
   "metadata": {
    "collapsed": false
   },
   "outputs": [],
   "source": [
    "data['area']   = data.apply(lambda x: abs((x['x2']  -x['x1']  )*(x['y3']  -x['y1']  ) - (x['x3']  -x['x1']  )*(x['y2']  -x['y1']  )), axis=1)\n",
    "data['area_1'] = data.apply(lambda x: abs((x['x2'])*(x['y3']) - (x['x3'])*(x['y2'])), axis=1)\n",
    "data['area_2'] = data.apply(lambda x: abs((-x['x1'])*(x['y3']-x['y1']) - (x['x3']-x['x1'])*(-x['y1'])), axis=1)\n",
    "data['area_3'] = data.apply(lambda x: abs((x['x2']  -x['x1']  )*(-x['y1']  ) - (-x['x1']  )*(x['y2']  -x['y1']  )), axis=1)"
   ]
  },
  {
   "cell_type": "code",
   "execution_count": 89,
   "metadata": {
    "collapsed": false
   },
   "outputs": [],
   "source": [
    "data['satisfy'] = data.apply(lambda x: (x['area'] ==( x['area_1'] + x['area_2']+ x['area_3'])) , axis=1 )"
   ]
  },
  {
   "cell_type": "code",
   "execution_count": 91,
   "metadata": {
    "collapsed": false
   },
   "outputs": [
    {
     "data": {
      "text/plain": [
       "228"
      ]
     },
     "execution_count": 91,
     "metadata": {},
     "output_type": "execute_result"
    }
   ],
   "source": [
    "data.satisfy.sum()"
   ]
  },
  {
   "cell_type": "markdown",
   "metadata": {},
   "source": [
    "Correct answer 228 at 10:08 pm 20170524"
   ]
  }
 ],
 "metadata": {
  "kernelspec": {
   "display_name": "Python 3",
   "language": "python",
   "name": "python3"
  },
  "language_info": {
   "codemirror_mode": {
    "name": "ipython",
    "version": 3
   },
   "file_extension": ".py",
   "mimetype": "text/x-python",
   "name": "python",
   "nbconvert_exporter": "python",
   "pygments_lexer": "ipython3",
   "version": "3.6.0"
  }
 },
 "nbformat": 4,
 "nbformat_minor": 2
}
