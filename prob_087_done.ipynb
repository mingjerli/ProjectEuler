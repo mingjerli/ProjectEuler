{
 "cells": [
  {
   "cell_type": "code",
   "execution_count": 2,
   "metadata": {
    "collapsed": true
   },
   "outputs": [],
   "source": [
    "def getPrimes(n):\n",
    "\timport numpy as np\n",
    "\tsieve = np.ones(n/3 + (n%6==2), dtype=np.bool)\n",
    "\tsieve[0] = False\n",
    "\tfor i in range(int((n**0.5)/3)+1):\n",
    "\t\tif sieve[i]:\n",
    "\t\t\tk=3*i+1|1\n",
    "\t\t\tsieve[int((k*k)/3) :: 2*k] = False\n",
    "\t\t\tsieve[int((k*k+4*k-2*k*(i&1))/3) :: 2*k] = False\n",
    "\treturn list(np.r_[2,3,((3*np.nonzero(sieve)[0]+1)|1)])"
   ]
  },
  {
   "cell_type": "code",
   "execution_count": 4,
   "metadata": {
    "collapsed": true
   },
   "outputs": [],
   "source": [
    "import math"
   ]
  },
  {
   "cell_type": "code",
   "execution_count": 12,
   "metadata": {
    "collapsed": false
   },
   "outputs": [
    {
     "name": "stderr",
     "output_type": "stream",
     "text": [
      "/opt/conda/lib/python3.5/site-packages/numpy/core/numeric.py:190: VisibleDeprecationWarning: using a non-integer number instead of an integer will result in an error in the future\n",
      "  a = empty(shape, dtype, order)\n"
     ]
    }
   ],
   "source": [
    "target = 50\n",
    "primes = getPrimes(int(math.sqrt(target)))\n",
    "primes2 = [p**2 for p in primes if p**2<target]\n",
    "primes3 = [p**3 for p in primes if p**3<target]\n",
    "primes4 = [p**4 for p in primes if p**4<target]"
   ]
  },
  {
   "cell_type": "code",
   "execution_count": 22,
   "metadata": {
    "collapsed": false
   },
   "outputs": [],
   "source": [
    "result234 = set([p2+p3+p4 for p2 in primes2 for p3 in primes3 for p4 in primes4 if p2+p3+p4 <=target])\n",
    "len(result234)"
   ]
  },
  {
   "cell_type": "code",
   "execution_count": 25,
   "metadata": {
    "collapsed": false
   },
   "outputs": [
    {
     "name": "stderr",
     "output_type": "stream",
     "text": [
      "/opt/conda/lib/python3.5/site-packages/numpy/core/numeric.py:190: VisibleDeprecationWarning: using a non-integer number instead of an integer will result in an error in the future\n",
      "  a = empty(shape, dtype, order)\n"
     ]
    },
    {
     "data": {
      "text/plain": [
       "1524532"
      ]
     },
     "execution_count": 25,
     "metadata": {},
     "output_type": "execute_result"
    }
   ],
   "source": [
    "target = 50 * 10**6\n",
    "primes = getPrimes(int(math.sqrt(target)))\n",
    "primes2 = [p**2 for p in primes if p**2<target]\n",
    "primes3 = [p**3 for p in primes if p**3<target]\n",
    "primes4 = [p**4 for p in primes if p**4<target]\n",
    "len(primes2)* len(primes3)* len(primes4)"
   ]
  },
  {
   "cell_type": "code",
   "execution_count": 26,
   "metadata": {
    "collapsed": false
   },
   "outputs": [
    {
     "data": {
      "text/plain": [
       "1097343"
      ]
     },
     "execution_count": 26,
     "metadata": {},
     "output_type": "execute_result"
    }
   ],
   "source": [
    "result234 = set([p2+p3+p4 for p2 in primes2 for p3 in primes3 for p4 in primes4 if p2+p3+p4 <=target])\n",
    "len(result234)"
   ]
  },
  {
   "cell_type": "code",
   "execution_count": null,
   "metadata": {
    "collapsed": true
   },
   "outputs": [],
   "source": [
    "# 1097343 correct solution"
   ]
  }
 ],
 "metadata": {
  "kernelspec": {
   "display_name": "Python [conda root]",
   "language": "python",
   "name": "conda-root-py"
  },
  "language_info": {
   "codemirror_mode": {
    "name": "ipython",
    "version": 3
   },
   "file_extension": ".py",
   "mimetype": "text/x-python",
   "name": "python",
   "nbconvert_exporter": "python",
   "pygments_lexer": "ipython3",
   "version": "3.5.2"
  }
 },
 "nbformat": 4,
 "nbformat_minor": 1
}
