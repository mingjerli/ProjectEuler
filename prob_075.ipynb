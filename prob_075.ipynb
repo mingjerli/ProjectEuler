{
 "cells": [
  {
   "cell_type": "code",
   "execution_count": 1,
   "metadata": {
    "collapsed": true
   },
   "outputs": [],
   "source": [
    "from time import time\n",
    "from math import sqrt"
   ]
  },
  {
   "cell_type": "code",
   "execution_count": 2,
   "metadata": {
    "collapsed": true
   },
   "outputs": [],
   "source": [
    "def isSquare(x):\n",
    "    if x == 1:\n",
    "        return True\n",
    "    low = 0\n",
    "    high = x // 2\n",
    "    root = high\n",
    "    while root * root != x:\n",
    "        root = (low + high) // 2\n",
    "        if low +1 >= high:\n",
    "            return False\n",
    "        if root * root > x:\n",
    "            high = root\n",
    "        else:\n",
    "            low = root\n",
    "    return True"
   ]
  },
  {
   "cell_type": "code",
   "execution_count": 3,
   "metadata": {
    "collapsed": true
   },
   "outputs": [],
   "source": [
    "maxL = 1500000\n",
    "maxL1 = maxL//3\n",
    "result = [0 for _ in range(maxL+1)]"
   ]
  },
  {
   "cell_type": "code",
   "execution_count": 4,
   "metadata": {
    "collapsed": false,
    "scrolled": false
   },
   "outputs": [],
   "source": [
    "# for L in range(12,maxL+1):\n",
    "#     if L%1000 ==0:\n",
    "#         print(L, time()-t0)\n",
    "#     maxL1 = L//3\n",
    "#     for L1 in range(2, maxL1+1):\n",
    "#         for L2 in range(L1+1, (L-L1)//2+1):\n",
    "#             L3 = L-L1-L2\n",
    "#             if L1*L1 + L2*L2 == L3*L3:\n",
    "#                 result[L] += 1\n",
    "            \n",
    "# too slow"
   ]
  },
  {
   "cell_type": "code",
   "execution_count": null,
   "metadata": {
    "collapsed": false
   },
   "outputs": [],
   "source": [
    "# t0 = time()\n",
    "# for L1 in range(2, maxL1):\n",
    "#     if L1 % 1000 ==0:\n",
    "#         print(L1, maxL1, time()-t0)\n",
    "#     for L2 in range(L1+1, (maxL-L1)//2+1):\n",
    "#         for L3 in range(L2+1, min(L1+L2, maxL-(L1+L2)+1)):\n",
    "#             if L1*L1 + L2*L2 == L3*L3:\n",
    "#                 result[L1+L2+L3] +=1\n",
    "#                 print(L1+L2+L3,L1,L2,L3,result[L1+L2+L3])\n",
    "# too slow"
   ]
  },
  {
   "cell_type": "code",
   "execution_count": null,
   "metadata": {
    "collapsed": false
   },
   "outputs": [],
   "source": [
    "t0 = time()\n",
    "for L1 in range(2, maxL1):\n",
    "    if L1 % 1000 ==0:\n",
    "        print(L1, maxL1, time()-t0)\n",
    "    for L2 in range(L1+1, (maxL-L1)//2+1):\n",
    "        squaresum = L1*L1+L2*L2\n",
    "        if isSquare(squaresum):\n",
    "            L3 = int(sqrt(squaresum))\n",
    "            if L1+L2+L3 <= maxL:\n",
    "                result[L1+L2+L3] +=1\n",
    "#                 print(L1+L2+L3,L1,L2,L3,result[L1+L2+L3])\n"
   ]
  },
  {
   "cell_type": "code",
   "execution_count": null,
   "metadata": {
    "collapsed": false
   },
   "outputs": [],
   "source": [
    "for i,v in enumerate(result):\n",
    "    if v>0:\n",
    "        print(i,v)"
   ]
  },
  {
   "cell_type": "code",
   "execution_count": null,
   "metadata": {
    "collapsed": false
   },
   "outputs": [],
   "source": [
    "count = 0\n",
    "for i,v in enumerate(result):\n",
    "    if v==1:\n",
    "        count +=1\n",
    "#         print(i,v)\n",
    "\n",
    "print(count)"
   ]
  },
  {
   "cell_type": "code",
   "execution_count": null,
   "metadata": {
    "collapsed": true
   },
   "outputs": [],
   "source": []
  }
 ],
 "metadata": {
  "kernelspec": {
   "display_name": "Python [conda root]",
   "language": "python",
   "name": "conda-root-py"
  },
  "language_info": {
   "codemirror_mode": {
    "name": "ipython",
    "version": 3
   },
   "file_extension": ".py",
   "mimetype": "text/x-python",
   "name": "python",
   "nbconvert_exporter": "python",
   "pygments_lexer": "ipython3",
   "version": "3.5.2"
  }
 },
 "nbformat": 4,
 "nbformat_minor": 1
}
