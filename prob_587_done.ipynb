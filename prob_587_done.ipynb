{
 "cells": [
  {
   "cell_type": "code",
   "execution_count": 1,
   "metadata": {
    "collapsed": true
   },
   "outputs": [],
   "source": [
    "from math import asin, sqrt, pi, sin,cos,tan\n"
   ]
  },
  {
   "cell_type": "code",
   "execution_count": 2,
   "metadata": {
    "collapsed": true
   },
   "outputs": [],
   "source": [
    "def sinphin(n):\n",
    "    return((-(n*n-n)-sqrt(2*n))/(n*n+1))\n",
    "\n",
    "def phin(sinphi):\n",
    "    return(pi-asin(sinphi))\n",
    "\n",
    "def ratio(n):\n",
    "    sinphi = sinphin(n)\n",
    "    cosphi = -sqrt(1-sinphi*sinphi)\n",
    "    sintheta = -cosphi\n",
    "    costheta = -sinphi\n",
    "    theta = asin(sintheta)\n",
    "    ratio = (1+sintheta-costheta-theta)/(2-pi/2)\n",
    "    return(ratio)"
   ]
  },
  {
   "cell_type": "code",
   "execution_count": 3,
   "metadata": {
    "collapsed": false
   },
   "outputs": [
    {
     "name": "stdout",
     "output_type": "stream",
     "text": [
      "2240 0.0009996098922019187\n"
     ]
    }
   ],
   "source": [
    "rt = 1\n",
    "targetrt = 0.001\n",
    "n = 1\n",
    "rt = ratio(n)\n",
    "while rt > targetrt:\n",
    "    n +=1\n",
    "    rt = ratio(n)\n",
    "#     print(n,rt)\n",
    "\n",
    "print(n,rt)"
   ]
  },
  {
   "cell_type": "code",
   "execution_count": 4,
   "metadata": {
    "collapsed": false
   },
   "outputs": [],
   "source": [
    "# 2240 correct solution @ 2017-03-22 11:29 "
   ]
  }
 ],
 "metadata": {
  "anaconda-cloud": {},
  "kernelspec": {
   "display_name": "Python [conda root]",
   "language": "python",
   "name": "conda-root-py"
  },
  "language_info": {
   "codemirror_mode": {
    "name": "ipython",
    "version": 3
   },
   "file_extension": ".py",
   "mimetype": "text/x-python",
   "name": "python",
   "nbconvert_exporter": "python",
   "pygments_lexer": "ipython3",
   "version": "3.5.2"
  }
 },
 "nbformat": 4,
 "nbformat_minor": 1
}
