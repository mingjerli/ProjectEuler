{
 "cells": [
  {
   "cell_type": "code",
   "execution_count": 1,
   "metadata": {
    "collapsed": true
   },
   "outputs": [],
   "source": [
    "# Linear Congruential Generator\n",
    "\n",
    "def lcg(N=10):\n",
    "    ntot = int(N*(N+1)/2)\n",
    "    t = 0\n",
    "    sk = [0 for _ in range(ntot)]\n",
    "    modnumber1 = 2**20\n",
    "    modnumber2 = 2**19\n",
    "    for k in range(ntot):\n",
    "        t = (615949*t + 797807) % modnumber1\n",
    "        sk[k] = t - modnumber2\n",
    "    return(sk)\n",
    "    "
   ]
  },
  {
   "cell_type": "code",
   "execution_count": 2,
   "metadata": {
    "collapsed": true
   },
   "outputs": [],
   "source": [
    "import numpy as np"
   ]
  },
  {
   "cell_type": "code",
   "execution_count": null,
   "metadata": {
    "collapsed": true
   },
   "outputs": [],
   "source": [
    "N = 1000\n",
    "sk = lcg(N)"
   ]
  },
  {
   "cell_type": "code",
   "execution_count": null,
   "metadata": {
    "collapsed": false
   },
   "outputs": [
    {
     "name": "stdout",
     "output_type": "stream",
     "text": [
      "0\n",
      "1\n",
      "1 0 1 -153582\n",
      "1 0 51 -2168503\n",
      "1 0 52 -2454793\n",
      "1 0 53 -4930395\n",
      "1 0 68 -5845685\n",
      "1 0 70 -10670426\n",
      "1 0 71 -12518722\n",
      "1 0 73 -13718764\n",
      "1 0 76 -17134067\n",
      "1 0 77 -17491229\n",
      "1 1 141 -26448628\n",
      "1 1 142 -32681229\n",
      "1 1 143 -34891036\n",
      "1 1 144 -42662388\n",
      "1 1 148 -44929103\n",
      "1 1 149 -48764094\n",
      "1 1 150 -49931011\n",
      "1 1 152 -56417478\n",
      "1 1 153 -63126845\n",
      "1 1 154 -63226824\n",
      "1 1 166 -64966463\n",
      "1 1 181 -72576326\n",
      "1 1 182 -74854715\n",
      "1 1 205 -76770180\n",
      "1 1 212 -77450463\n",
      "1 1 213 -81368270\n",
      "1 1 214 -81548915\n",
      "1 1 215 -85959442\n",
      "1 1 216 -90737430\n",
      "1 1 217 -100421901\n",
      "1 1 221 -104047368\n",
      "1 1 222 -108711257\n",
      "1 1 223 -112454792\n",
      "1 1 225 -112564159\n",
      "1 1 228 -114070627\n",
      "1 1 231 -115011566\n",
      "1 1 232 -117804810\n",
      "1 1 233 -121728865\n",
      "1 1 234 -122131876\n",
      "1 1 235 -125924763\n",
      "1 1 236 -131118029\n",
      "1 1 241 -132556787\n",
      "1 1 243 -134476521\n",
      "1 1 244 -137635239\n",
      "1 1 246 -138957483\n",
      "1 1 257 -141401063\n",
      "1 1 264 -142373938\n",
      "1 1 276 -149333359\n",
      "1 1 277 -160846046\n",
      "1 1 354 -174929398\n",
      "1 1 405 -178355454\n",
      "1 1 409 -178582653\n",
      "1 1 412 -181032857\n",
      "1 1 416 -184596808\n",
      "1 1 417 -187765167\n",
      "1 1 419 -192301517\n",
      "1 1 449 -192573399\n",
      "1 1 487 -199285678\n",
      "1 1 809 -204518577\n",
      "1 1 810 -210010964\n",
      "1 1 811 -212290507\n",
      "1 1 812 -225455965\n",
      "1 1 813 -241845596\n",
      "1 1 842 -246572012\n",
      "1 1 843 -249010851\n",
      "1 1 870 -250365455\n",
      "1 1 877 -253498348\n",
      "1 1 878 -261913301\n",
      "1 1 892 -263987857\n",
      "2\n",
      "3\n",
      "4\n",
      "5\n",
      "6\n",
      "7\n",
      "7 7 885 -265853293\n",
      "7 7 886 -271248680\n",
      "8\n",
      "9\n",
      "10\n",
      "11\n",
      "12\n",
      "13\n",
      "14\n",
      "15\n",
      "16\n",
      "17\n",
      "18\n",
      "19\n",
      "20\n",
      "21\n",
      "22\n",
      "23\n",
      "24\n",
      "25\n",
      "26\n",
      "27\n",
      "28\n",
      "29\n",
      "30\n",
      "31\n",
      "32\n",
      "33\n",
      "34\n",
      "35\n",
      "36\n",
      "37\n",
      "38\n",
      "39\n",
      "40\n",
      "41\n"
     ]
    }
   ],
   "source": [
    "minsum = 0\n",
    "\n",
    "for i in range(N):\n",
    "    print(i)\n",
    "    for j in range(i+1):\n",
    "        maxlength = N-i\n",
    "#         print(i, j, maxlength, sk[int(i*(i+1)/2)+j])\n",
    "        # Find labels for each side of triangular at given (i,j) and length \n",
    "        index1 = [int((i+x)*(i+x+1)/2)+j for x in range(maxlength)]\n",
    "        index2 = [int((i+x)*(i+x+1)/2)+j+x for x in range(maxlength)]\n",
    "        index3 = [list(range(index1[x],index2[x]+1)) for x in range(maxlength)]\n",
    "        # Calculate the sum of each side at given (i,j) and length \n",
    "        bordersum1 = list(np.cumsum([sk[_] for _ in index1]))\n",
    "        bordersum2 = list(np.cumsum([sk[_] for _ in index2]))\n",
    "        bordersum3 = [0 for _ in range(maxlength)]\n",
    "        for k in range(maxlength):\n",
    "            bordersum3[k] = sum([sk[_] for _ in index3[k]])\n",
    "#         print(index1, index2, index3)\n",
    "#         print(bordersum1, bordersum2, bordersum3)\n",
    "        # Determine which length should we calculate the sum of whole triangular\n",
    "        potentiallength = [k+1 for k in range(maxlength) if bordersum1[k]<0 and bordersum2[k]<0 and bordersum3[k]<0]\n",
    "        if len(potentiallength) > 0:\n",
    "            for rows in potentiallength:\n",
    "#                 print(i,j,rows)\n",
    "                tempsum = 0\n",
    "                for r in range(rows):\n",
    "                    rowsum = sum([sk[_] for _ in index3[r]])\n",
    "                    tempsum +=rowsum\n",
    "                if tempsum < minsum:\n",
    "                    minsum = tempsum\n",
    "                    print(i,j,rows,minsum)"
   ]
  },
  {
   "cell_type": "code",
   "execution_count": null,
   "metadata": {
    "collapsed": true
   },
   "outputs": [],
   "source": [
    "# find sol at 7 7 886 -271248680"
   ]
  }
 ],
 "metadata": {
  "anaconda-cloud": {},
  "kernelspec": {
   "display_name": "Python [conda root]",
   "language": "python",
   "name": "conda-root-py"
  },
  "language_info": {
   "codemirror_mode": {
    "name": "ipython",
    "version": 3
   },
   "file_extension": ".py",
   "mimetype": "text/x-python",
   "name": "python",
   "nbconvert_exporter": "python",
   "pygments_lexer": "ipython3",
   "version": "3.5.2"
  }
 },
 "nbformat": 4,
 "nbformat_minor": 1
}
