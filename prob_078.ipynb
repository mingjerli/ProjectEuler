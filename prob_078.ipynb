{
 "cells": [
  {
   "cell_type": "code",
   "execution_count": 1,
   "metadata": {
    "collapsed": true
   },
   "outputs": [],
   "source": [
    "import itertools\n",
    "from time import time"
   ]
  },
  {
   "cell_type": "code",
   "execution_count": 2,
   "metadata": {
    "collapsed": false
   },
   "outputs": [
    {
     "name": "stdout",
     "output_type": "stream",
     "text": [
      "2 2 1.430511474609375e-05\n",
      "3 3 9.465217590332031e-05\n",
      "4 5 0.0001227855682373047\n",
      "5 7 0.00015735626220703125\n",
      "6 11 0.00020313262939453125\n",
      "7 15 0.0002715587615966797\n",
      "8 22 0.00036978721618652344\n",
      "9 30 0.0005204677581787109\n",
      "10 42 0.0007753372192382812\n",
      "11 56 0.0011076927185058594\n",
      "12 77 0.0015683174133300781\n",
      "13 101 0.002228975296020508\n",
      "14 135 0.003201723098754883\n",
      "15 176 0.0047914981842041016\n",
      "16 231 0.006755828857421875\n",
      "17 297 0.009341239929199219\n",
      "18 385 0.01414942741394043\n",
      "19 490 0.04643988609313965\n",
      "20 627 0.052683115005493164\n",
      "21 792 0.061806678771972656\n",
      "22 1002 0.0727241039276123\n",
      "23 1255 0.08809423446655273\n",
      "24 1575 0.10854959487915039\n",
      "25 1958 0.1325523853302002\n",
      "26 2436 0.16270899772644043\n",
      "27 3010 0.20345282554626465\n",
      "28 3718 0.27959418296813965\n",
      "29 4565 0.3497636318206787\n",
      "30 5604 0.4617173671722412\n"
     ]
    },
    {
     "data": {
      "text/plain": [
       "0"
      ]
     },
     "execution_count": 2,
     "metadata": {},
     "output_type": "execute_result"
    }
   ],
   "source": [
    "def coinsplit(n):\n",
    "    t0 = time()\n",
    "    splits = [[1]]\n",
    "    for i in range(2,n+1):\n",
    "        newsplit1 = [s+[1] for s in splits]\n",
    "        newsplit2 = list()\n",
    "        for s in splits:\n",
    "            for si in range(len(s)):\n",
    "                newsplit2.append(s[:si]+[s[si]+1]+s[(si+1):])\n",
    "        splits = newsplit1+newsplit2\n",
    "        for s in splits:\n",
    "            s.sort()\n",
    "        splits.sort()\n",
    "        splits = list(k for k,_ in itertools.groupby(splits))\n",
    "        print(i, len(splits), time()-t0)\n",
    "    return(0)\n",
    "coinsplit(30)  "
   ]
  },
  {
   "cell_type": "code",
   "execution_count": null,
   "metadata": {
    "collapsed": false
   },
   "outputs": [],
   "source": [
    "pij = dict()\n",
    "\n",
    "def coinsplithelp(n,i):\n",
    "    nstr = str(n)\n",
    "    istr = str(i)\n",
    "    if nstr not in pij.keys():\n",
    "        pij[nstr]=dict()\n",
    "\n",
    "    if istr not in pij[nstr].keys():\n",
    "        if i==1 or i==n or i==n-1:\n",
    "            result = 1\n",
    "            pij[nstr][istr] = result\n",
    "#             print(pij)\n",
    "        else:\n",
    "            result = sum([coinsplithelp(n-i,j) for j in range(1,n-i+1) if j<=i])\n",
    "            pij[nstr][istr] = result\n",
    "    return(pij[nstr][istr])\n",
    "\n",
    "def coinsplit(n):\n",
    "#     for i in range(1, n+1):\n",
    "#         print(n,i,coinsplithelp(n,i))\n",
    "    return(sum([coinsplithelp(n,i) for i in range(1,n+1)]))\n",
    "\n"
   ]
  },
  {
   "cell_type": "code",
   "execution_count": null,
   "metadata": {
    "collapsed": false
   },
   "outputs": [
    {
     "name": "stdout",
     "output_type": "stream",
     "text": [
      "100 190569292 0.11581778526306152\n",
      "200 3972999029388 0.8448998928070068\n",
      "300 9253082936723602 2.703493356704712\n",
      "400 6727090051741041926 6.2971906661987305\n"
     ]
    }
   ],
   "source": [
    "t0=time()\n",
    "found = False\n",
    "i=1\n",
    "while not found:\n",
    "    nways = coinsplit(i)\n",
    "    if nways % (10**6) == 0:\n",
    "        found = True\n",
    "        print(\"found solution at\",i, nways,time()-t0)\n",
    "    if i % 100 == 0:\n",
    "        print(i, nways,time()-t0)\n",
    "    i+=1\n"
   ]
  },
  {
   "cell_type": "code",
   "execution_count": null,
   "metadata": {
    "collapsed": true
   },
   "outputs": [],
   "source": []
  }
 ],
 "metadata": {
  "kernelspec": {
   "display_name": "Python [conda root]",
   "language": "python",
   "name": "conda-root-py"
  },
  "language_info": {
   "codemirror_mode": {
    "name": "ipython",
    "version": 3
   },
   "file_extension": ".py",
   "mimetype": "text/x-python",
   "name": "python",
   "nbconvert_exporter": "python",
   "pygments_lexer": "ipython3",
   "version": "3.5.2"
  }
 },
 "nbformat": 4,
 "nbformat_minor": 1
}
