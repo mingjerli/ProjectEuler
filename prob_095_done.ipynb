{
 "cells": [
  {
   "cell_type": "code",
   "execution_count": 17,
   "metadata": {
    "collapsed": true
   },
   "outputs": [],
   "source": [
    "from time import time\n",
    "from math import sqrt\n",
    "from collections import Counter\n",
    "from itertools import product"
   ]
  },
  {
   "cell_type": "code",
   "execution_count": 18,
   "metadata": {
    "collapsed": true
   },
   "outputs": [],
   "source": [
    "def pFactors(n): \n",
    "    \"\"\"Finds the prime factors of 'n'\"\"\" \n",
    "    from math import sqrt \n",
    "    pFact, limit, check, num = [], int(sqrt(n)) + 1, 2, n \n",
    "    if n == 1: return [1] \n",
    "    for check in range(2, limit): \n",
    "        while num % check == 0: \n",
    "            pFact.append(check) \n",
    "            num /= check \n",
    "    if num > 1:\n",
    "        pFact.append(int(num)) \n",
    "    return pFact \n"
   ]
  },
  {
   "cell_type": "code",
   "execution_count": 19,
   "metadata": {
    "collapsed": false
   },
   "outputs": [],
   "source": [
    "def sumfactors(n):\n",
    "    pfactor = Counter(pFactors(n))\n",
    "    factors = [range(i+1) for i in pfactor.values()]\n",
    "    keys = list(pfactor.keys())\n",
    "    result = 0\n",
    "    for i in product(*factors):\n",
    "        val = 1\n",
    "        for j in range(len(i)):\n",
    "            val *= keys[j]**i[j]\n",
    "        result+=val\n",
    "    result-=n\n",
    "    return(result)\n"
   ]
  },
  {
   "cell_type": "code",
   "execution_count": 33,
   "metadata": {
    "collapsed": false
   },
   "outputs": [],
   "source": [
    "# N=100\n",
    "# for n in range(2,N+1):\n",
    "#     print(n,sumfactors(n))"
   ]
  },
  {
   "cell_type": "code",
   "execution_count": 59,
   "metadata": {
    "collapsed": false
   },
   "outputs": [],
   "source": [
    "N=10**6\n",
    "sumdivisors = [sumfactors(i) for i in range(N+1)]\n",
    "cyclelength = [-1 for i in range(N+1)]"
   ]
  },
  {
   "cell_type": "code",
   "execution_count": 60,
   "metadata": {
    "collapsed": false
   },
   "outputs": [],
   "source": [
    "# sumdivisors[:20]"
   ]
  },
  {
   "cell_type": "code",
   "execution_count": 61,
   "metadata": {
    "collapsed": false
   },
   "outputs": [],
   "source": [
    "for i in range(N+1):\n",
    "    nextval = sumdivisors[i]\n",
    "    if nextval==1 or nextval==i:\n",
    "        cyclelength[i] = 1\n",
    "    elif nextval > N:\n",
    "        cyclelength[i] = 0\n",
    "    else:\n",
    "        seqs = [i, nextval]\n",
    "        currenti = nextval\n",
    "        count = 0\n",
    "        while cyclelength[i] == -1 and count<100:\n",
    "            nextval = sumdivisors[currenti]\n",
    "#             print(i,currenti,nextval,seqs)\n",
    "            if nextval==1:  # shrink to prime number\n",
    "                cyclelength[i] = 1\n",
    "            elif nextval > N: # out of bound\n",
    "                cyclelength[i] = 0\n",
    "            elif nextval == i: # find a circle\n",
    "                cyclelength[i] = len(seqs) - seqs.index(nextval)\n",
    "            elif nextval in seqs[1:]: # shrink to a attractor but itself is not part of it\n",
    "                cyclelength[i] = -2\n",
    "#             elif cyclelength[nextval] != -1:\n",
    "#                 cyclelength[i] = cyclelength[nextval]\n",
    "            else:\n",
    "                seqs.append(nextval)\n",
    "                currenti = nextval\n",
    "#             if count >=10:\n",
    "#                 print(i, count, nextval)\n",
    "            count+=1\n",
    "    \n"
   ]
  },
  {
   "cell_type": "code",
   "execution_count": 63,
   "metadata": {
    "collapsed": false
   },
   "outputs": [
    {
     "name": "stdout",
     "output_type": "stream",
     "text": [
      "220 2\n",
      "284 2\n",
      "1184 2\n",
      "1210 2\n",
      "2620 2\n",
      "2924 2\n",
      "5020 2\n",
      "5564 2\n",
      "6232 2\n",
      "6368 2\n",
      "10744 2\n",
      "10856 2\n",
      "12285 2\n",
      "12496 5\n",
      "14264 5\n",
      "14288 5\n",
      "14316 28\n",
      "17716 28\n",
      "19116 28\n",
      "19916 28\n",
      "22744 28\n",
      "22976 28\n",
      "31704 28\n",
      "45946 28\n",
      "47616 28\n",
      "48976 28\n",
      "83328 28\n",
      "97946 28\n",
      "122410 28\n",
      "152990 28\n",
      "177792 28\n",
      "243760 28\n",
      "274924 28\n",
      "275444 28\n",
      "285778 28\n",
      "294896 28\n",
      "295488 28\n",
      "358336 28\n",
      "366556 28\n",
      "376736 28\n",
      "381028 28\n",
      "418904 28\n",
      "589786 28\n",
      "629072 28\n"
     ]
    }
   ],
   "source": [
    "maxv = 1\n",
    "for i,v in enumerate(cyclelength):\n",
    "    if v>=maxv and v>=2:\n",
    "        print(i,v)\n",
    "        i1 = i\n",
    "        for j in range(v):\n",
    "#             print(i1, sumdivisors[i1])\n",
    "            i1 = sumdivisors[i1]\n",
    "        maxv=v"
   ]
  },
  {
   "cell_type": "code",
   "execution_count": null,
   "metadata": {
    "collapsed": true
   },
   "outputs": [],
   "source": [
    "# 14316 correct solution @ 2017-03-23 10:41 am"
   ]
  }
 ],
 "metadata": {
  "anaconda-cloud": {},
  "kernelspec": {
   "display_name": "Python [conda root]",
   "language": "python",
   "name": "conda-root-py"
  },
  "language_info": {
   "codemirror_mode": {
    "name": "ipython",
    "version": 3
   },
   "file_extension": ".py",
   "mimetype": "text/x-python",
   "name": "python",
   "nbconvert_exporter": "python",
   "pygments_lexer": "ipython3",
   "version": "3.5.2"
  }
 },
 "nbformat": 4,
 "nbformat_minor": 1
}
