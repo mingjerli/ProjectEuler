{
 "cells": [
  {
   "cell_type": "code",
   "execution_count": 72,
   "metadata": {
    "collapsed": true
   },
   "outputs": [],
   "source": [
    "import numpy as np"
   ]
  },
  {
   "cell_type": "code",
   "execution_count": 73,
   "metadata": {
    "collapsed": true
   },
   "outputs": [],
   "source": [
    "data = np.genfromtxt('p081_matrix.txt',delimiter=\",\", dtype=\"int\")\n",
    "pathsum = np.zeros(data.shape)"
   ]
  },
  {
   "cell_type": "code",
   "execution_count": 74,
   "metadata": {
    "collapsed": true
   },
   "outputs": [],
   "source": [
    "Nx, Ny = data.shape"
   ]
  },
  {
   "cell_type": "code",
   "execution_count": 75,
   "metadata": {
    "collapsed": false
   },
   "outputs": [],
   "source": [
    "pathsum[:,Ny-1] = data[:,Ny-1]"
   ]
  },
  {
   "cell_type": "code",
   "execution_count": 76,
   "metadata": {
    "collapsed": false
   },
   "outputs": [
    {
     "data": {
      "text/plain": [
       "array([[    0.,     0.,     0., ...,     0.,     0.,  5870.],\n",
       "       [    0.,     0.,     0., ...,     0.,     0.,  9377.],\n",
       "       [    0.,     0.,     0., ...,     0.,     0.,  9230.],\n",
       "       ..., \n",
       "       [    0.,     0.,     0., ...,     0.,     0.,  5294.],\n",
       "       [    0.,     0.,     0., ...,     0.,     0.,  5789.],\n",
       "       [    0.,     0.,     0., ...,     0.,     0.,  7981.]])"
      ]
     },
     "execution_count": 76,
     "metadata": {},
     "output_type": "execute_result"
    }
   ],
   "source": [
    "pathsum"
   ]
  },
  {
   "cell_type": "code",
   "execution_count": 77,
   "metadata": {
    "collapsed": false
   },
   "outputs": [
    {
     "name": "stdout",
     "output_type": "stream",
     "text": [
      "78\n",
      "77\n",
      "76\n",
      "75\n",
      "74\n",
      "73\n",
      "72\n",
      "71\n",
      "70\n",
      "69\n",
      "68\n",
      "67\n",
      "66\n",
      "65\n",
      "64\n",
      "63\n",
      "62\n",
      "61\n",
      "60\n",
      "59\n",
      "58\n",
      "57\n",
      "56\n",
      "55\n",
      "54\n",
      "53\n",
      "52\n",
      "51\n",
      "50\n",
      "49\n",
      "48\n",
      "47\n",
      "46\n",
      "45\n",
      "44\n",
      "43\n",
      "42\n",
      "41\n",
      "40\n",
      "39\n",
      "38\n",
      "37\n",
      "36\n",
      "35\n",
      "34\n",
      "33\n",
      "32\n",
      "31\n",
      "30\n",
      "29\n",
      "28\n",
      "27\n",
      "26\n",
      "25\n",
      "24\n",
      "23\n",
      "22\n",
      "21\n",
      "20\n",
      "19\n",
      "18\n",
      "17\n",
      "16\n",
      "15\n",
      "14\n",
      "13\n",
      "12\n",
      "11\n",
      "10\n",
      "9\n",
      "8\n",
      "7\n",
      "6\n",
      "5\n",
      "4\n",
      "3\n",
      "2\n",
      "1\n",
      "0\n"
     ]
    }
   ],
   "source": [
    "for iy in range(Ny-2,-1,-1):\n",
    "    print(iy)\n",
    "    for ix in range(Nx):\n",
    "        target = pathsum[ix,iy+1]\n",
    "        if ix ==0:\n",
    "            documsum = np.cumsum(data[ix+1:,iy]) + pathsum[ix+1:,iy+1]\n",
    "            pathsum[ix,iy] = data[ix,iy] + min(min(documsum), pathsum[ix,iy+1])\n",
    "        elif ix == Nx-1:\n",
    "            upcumsum = np.cumsum(data[ix-1::-1,iy]) + pathsum[ix-1::-1,iy+1]\n",
    "            pathsum[ix,iy] = data[ix,iy] + min(min(upcumsum), pathsum[ix,iy+1])\n",
    "        else:\n",
    "            documsum = np.cumsum(data[ix+1:,iy]) + pathsum[ix+1:,iy+1]\n",
    "            upcumsum = np.cumsum(data[ix-1::-1,iy]) + pathsum[ix-1::-1,iy+1]\n",
    "            pathsum[ix,iy] = data[ix,iy] + min(min(upcumsum), min(documsum), pathsum[ix,iy+1])\n",
    "        "
   ]
  },
  {
   "cell_type": "code",
   "execution_count": 79,
   "metadata": {
    "collapsed": false
   },
   "outputs": [
    {
     "data": {
      "text/plain": [
       "260324.0"
      ]
     },
     "execution_count": 79,
     "metadata": {},
     "output_type": "execute_result"
    }
   ],
   "source": [
    "min(pathsum[:,0])"
   ]
  },
  {
   "cell_type": "code",
   "execution_count": null,
   "metadata": {
    "collapsed": true
   },
   "outputs": [],
   "source": [
    "# 260324 correct solution"
   ]
  }
 ],
 "metadata": {
  "anaconda-cloud": {},
  "kernelspec": {
   "display_name": "Python [conda root]",
   "language": "python",
   "name": "conda-root-py"
  },
  "language_info": {
   "codemirror_mode": {
    "name": "ipython",
    "version": 3
   },
   "file_extension": ".py",
   "mimetype": "text/x-python",
   "name": "python",
   "nbconvert_exporter": "python",
   "pygments_lexer": "ipython3",
   "version": "3.5.2"
  }
 },
 "nbformat": 4,
 "nbformat_minor": 1
}
