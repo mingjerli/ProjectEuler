{
 "cells": [
  {
   "cell_type": "code",
   "execution_count": 57,
   "metadata": {
    "collapsed": true
   },
   "outputs": [],
   "source": [
    "import numpy as np\n",
    "data = np.genfromtxt('p083_matrix.txt',delimiter=\",\", dtype=\"int\")\n",
    "# data = data[-10:, -5:]\n",
    "pathsum = np.zeros(data.shape, dtype=\"int\")\n",
    "Nx,Ny = pathsum.shape\n",
    "\n",
    "pathsum[Nx-1, Ny-1]=data[Nx-1, Ny-1]\n",
    "pathsum[Nx-2, Ny-1]=data[Nx-2, Ny-1] + pathsum[Nx-1, Ny-1]\n",
    "pathsum[Nx-1, Ny-2]=data[Nx-1, Ny-2] + pathsum[Nx-1, Ny-1]"
   ]
  },
  {
   "cell_type": "code",
   "execution_count": 58,
   "metadata": {
    "collapsed": false,
    "scrolled": false
   },
   "outputs": [],
   "source": [
    "def findneighbors(ix,iy):\n",
    "    result = list()\n",
    "    if ix < Nx-1:\n",
    "        if pathsum[ix+1, iy] !=0:\n",
    "            result.append((ix+1, iy))\n",
    "    if ix > 0:\n",
    "        if pathsum[ix-1, iy] !=0:\n",
    "            result.append((ix-1, iy))\n",
    "    if iy < Ny-1:\n",
    "        if pathsum[ix, iy+1] !=0:\n",
    "            result.append((ix, iy+1))\n",
    "    if iy > 0:\n",
    "        if pathsum[ix, iy-1] !=0:\n",
    "            result.append((ix, iy-1))\n",
    "    return(result)\n",
    "\n",
    "def updateneighbors(ix,iy,fx,fy):\n",
    "    neighbors = findneighbors(fx,fy)\n",
    "    neighbors.remove((ix,iy))\n",
    "#     print(neighbors)\n",
    "    if len(neighbors)>0:\n",
    "        if pathsum[ix,iy] < min([pathsum[x[0],x[1]] for x in neighbors]):\n",
    "            pathsum[fx,fy] = data[fx,fy] + pathsum[ix,iy]\n",
    "            for n in neighbors:\n",
    "                updateneighbors(fx,fy,n[0],n[1])\n",
    "            \n",
    "for i in range(Nx+Ny-4, -1, -1):\n",
    "    for ix in range(Nx-1, -1, -1):\n",
    "        for iy in range(Ny-1, -1, -1):\n",
    "            if ix+iy==i:\n",
    "                neighbors = findneighbors(ix,iy)\n",
    "#                 print(i,ix,iy,len(neighbors))\n",
    "                if len(neighbors)>0:\n",
    "                    pathsum[ix,iy] = data[ix,iy] + min([pathsum[x[0],x[1]] for x in neighbors])\n",
    "                for n in neighbors:\n",
    "#                     print(\"update from\",ix,iy,\"to\",n[0],n[1])\n",
    "#                     print(data)\n",
    "#                     print(pathsum)\n",
    "                    updateneighbors(ix,iy,n[0],n[1])"
   ]
  },
  {
   "cell_type": "code",
   "execution_count": 59,
   "metadata": {
    "collapsed": false
   },
   "outputs": [
    {
     "data": {
      "text/plain": [
       "425185"
      ]
     },
     "execution_count": 59,
     "metadata": {},
     "output_type": "execute_result"
    }
   ],
   "source": [
    "pathsum[0,0]"
   ]
  },
  {
   "cell_type": "code",
   "execution_count": null,
   "metadata": {
    "collapsed": true
   },
   "outputs": [],
   "source": [
    "# 425185 find correct sol"
   ]
  }
 ],
 "metadata": {
  "anaconda-cloud": {},
  "kernelspec": {
   "display_name": "Python [conda root]",
   "language": "python",
   "name": "conda-root-py"
  },
  "language_info": {
   "codemirror_mode": {
    "name": "ipython",
    "version": 3
   },
   "file_extension": ".py",
   "mimetype": "text/x-python",
   "name": "python",
   "nbconvert_exporter": "python",
   "pygments_lexer": "ipython3",
   "version": "3.5.2"
  }
 },
 "nbformat": 4,
 "nbformat_minor": 1
}
