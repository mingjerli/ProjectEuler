{
 "cells": [
  {
   "cell_type": "code",
   "execution_count": 1,
   "metadata": {
    "collapsed": true
   },
   "outputs": [],
   "source": [
    "from time import time"
   ]
  },
  {
   "cell_type": "code",
   "execution_count": 2,
   "metadata": {
    "collapsed": false
   },
   "outputs": [
    {
     "data": {
      "text/plain": [
       "18"
      ]
     },
     "execution_count": 2,
     "metadata": {},
     "output_type": "execute_result"
    }
   ],
   "source": [
    "def countrecs(l1,l2):\n",
    "    return(sum([(l1-i+1)*(l2-j+1) for i in range(1,1+l1) for j in range(1,1+l2)]))\n",
    "\n",
    "countrecs(3,2)"
   ]
  },
  {
   "cell_type": "code",
   "execution_count": 3,
   "metadata": {
    "collapsed": true
   },
   "outputs": [],
   "source": [
    "l1 = 1\n",
    "l2 = 1"
   ]
  },
  {
   "cell_type": "code",
   "execution_count": 4,
   "metadata": {
    "collapsed": true
   },
   "outputs": [],
   "source": [
    "targetN = 2*(10**6)"
   ]
  },
  {
   "cell_type": "code",
   "execution_count": 5,
   "metadata": {
    "collapsed": false
   },
   "outputs": [
    {
     "name": "stdout",
     "output_type": "stream",
     "text": [
      "(2, 2, 9)\n",
      "(3, 3, 36)\n",
      "(4, 4, 100)\n",
      "(5, 5, 225)\n",
      "(6, 6, 441)\n",
      "(7, 7, 784)\n",
      "(8, 8, 1296)\n",
      "(9, 9, 2025)\n",
      "(10, 10, 3025)\n",
      "(11, 11, 4356)\n",
      "(12, 12, 6084)\n",
      "(13, 13, 8281)\n",
      "(14, 14, 11025)\n",
      "(15, 15, 14400)\n",
      "(16, 16, 18496)\n",
      "(17, 17, 23409)\n",
      "(18, 18, 29241)\n",
      "(19, 19, 36100)\n",
      "(20, 20, 44100)\n",
      "(21, 21, 53361)\n",
      "(22, 22, 64009)\n",
      "(23, 23, 76176)\n",
      "(24, 24, 90000)\n",
      "(25, 25, 105625)\n",
      "(26, 26, 123201)\n",
      "(27, 27, 142884)\n",
      "(28, 28, 164836)\n",
      "(29, 29, 189225)\n",
      "(30, 30, 216225)\n",
      "(31, 31, 246016)\n",
      "(32, 32, 278784)\n",
      "(33, 33, 314721)\n",
      "(34, 34, 354025)\n",
      "(35, 35, 396900)\n",
      "(36, 36, 443556)\n",
      "(37, 37, 494209)\n",
      "(38, 38, 549081)\n",
      "(39, 39, 608400)\n",
      "(40, 40, 672400)\n",
      "(41, 41, 741321)\n",
      "(42, 42, 815409)\n",
      "(43, 43, 894916)\n",
      "(44, 44, 980100)\n",
      "(45, 45, 1071225)\n",
      "(46, 46, 1168561)\n",
      "(47, 47, 1272384)\n",
      "(48, 48, 1382976)\n",
      "(49, 49, 1500625)\n",
      "(50, 50, 1625625)\n",
      "(51, 51, 1758276)\n",
      "(52, 52, 1898884)\n",
      "(53, 53, 2047761)\n"
     ]
    }
   ],
   "source": [
    "l1 = 1\n",
    "bestsol = (1,1,1)\n",
    "sol = countrecs(l1,l1)\n",
    "while sol < targetN:\n",
    "    l1+=1\n",
    "    sol= countrecs(l1,l1)\n",
    "    if abs(targetN-sol) < abs(targetN-bestsol[2]):\n",
    "        bestsol = (l1,l1,sol)\n",
    "        print(bestsol)\n",
    "\n",
    "maxl1 = l1"
   ]
  },
  {
   "cell_type": "code",
   "execution_count": 6,
   "metadata": {
    "collapsed": false
   },
   "outputs": [
    {
     "name": "stdout",
     "output_type": "stream",
     "text": [
      "(53, 52, 1971918)\n",
      "(49, 57, 2024925)\n",
      "(48, 58, 2012136)\n",
      "(47, 59, 1996560)\n",
      "(38, 73, 2001441)\n",
      "(36, 77, 1999998)\n"
     ]
    }
   ],
   "source": [
    "for l1 in range(maxl1,0,-1):\n",
    "    l2 = l1-1\n",
    "    sol = countrecs(l1,l2)\n",
    "    if abs(targetN-sol) < abs(targetN-bestsol[2]):\n",
    "        bestsol = (l1,l2,sol)\n",
    "        print(bestsol)\n",
    "    while sol < targetN:\n",
    "        l2+=1\n",
    "        sol= countrecs(l1,l2)\n",
    "        if abs(targetN-sol) < abs(targetN-bestsol[2]):\n",
    "            bestsol = (l1,l2,sol)\n",
    "            print(bestsol)\n"
   ]
  },
  {
   "cell_type": "code",
   "execution_count": 7,
   "metadata": {
    "collapsed": false
   },
   "outputs": [
    {
     "data": {
      "text/plain": [
       "2772"
      ]
     },
     "execution_count": 7,
     "metadata": {},
     "output_type": "execute_result"
    }
   ],
   "source": [
    "bestsol[0]*bestsol[1]"
   ]
  },
  {
   "cell_type": "code",
   "execution_count": 8,
   "metadata": {
    "collapsed": true
   },
   "outputs": [],
   "source": [
    "# 2772 correct solution"
   ]
  }
 ],
 "metadata": {
  "anaconda-cloud": {},
  "kernelspec": {
   "display_name": "Python [conda root]",
   "language": "python",
   "name": "conda-root-py"
  },
  "language_info": {
   "codemirror_mode": {
    "name": "ipython",
    "version": 3
   },
   "file_extension": ".py",
   "mimetype": "text/x-python",
   "name": "python",
   "nbconvert_exporter": "python",
   "pygments_lexer": "ipython3",
   "version": "3.5.2"
  }
 },
 "nbformat": 4,
 "nbformat_minor": 1
}
