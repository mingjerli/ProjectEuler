{
 "cells": [
  {
   "cell_type": "code",
   "execution_count": 14,
   "metadata": {
    "collapsed": false
   },
   "outputs": [],
   "source": [
    "from fractions import Fraction"
   ]
  },
  {
   "cell_type": "code",
   "execution_count": 1,
   "metadata": {
    "collapsed": true
   },
   "outputs": [],
   "source": [
    "digits = [i for i in range(1,10)]"
   ]
  },
  {
   "cell_type": "code",
   "execution_count": 4,
   "metadata": {
    "collapsed": false
   },
   "outputs": [],
   "source": [
    "count=0\n",
    "for a in range(1,7):\n",
    "    for b in range(a+1,8):\n",
    "        for c in range(b+1,9):\n",
    "            for d in range(c+1,10):\n",
    "#                 print(count,a,b,c,d)\n",
    "                count+=1\n"
   ]
  },
  {
   "cell_type": "code",
   "execution_count": 66,
   "metadata": {
    "collapsed": true
   },
   "outputs": [],
   "source": [
    "def comb2(a,b):\n",
    "    result = set([-a-b, a+b, a-b, b-a, a*b, -a*b])\n",
    "    if b!=0:\n",
    "        result.add(Fraction(a,b))\n",
    "        result.add(Fraction(-a,b))\n",
    "    if a!=0:\n",
    "        result.add(Fraction(b,a))\n",
    "        result.add(Fraction(-b,a))\n",
    "    \n",
    "    return(result)"
   ]
  },
  {
   "cell_type": "code",
   "execution_count": 76,
   "metadata": {
    "collapsed": false
   },
   "outputs": [],
   "source": [
    "# comb2(1,2)"
   ]
  },
  {
   "cell_type": "code",
   "execution_count": 77,
   "metadata": {
    "collapsed": false
   },
   "outputs": [],
   "source": [
    "# comb2(2,1)"
   ]
  },
  {
   "cell_type": "code",
   "execution_count": 69,
   "metadata": {
    "collapsed": false
   },
   "outputs": [],
   "source": [
    "def comb3(a,b,c):\n",
    "    result = set()\n",
    "    for x in comb2(b,c):\n",
    "        tempcomb2 = comb2(a,x)\n",
    "        for y in tempcomb2:\n",
    "            result.add(y)\n",
    "    for x in comb2(a,c):\n",
    "        tempcomb2 = comb2(b,x)\n",
    "        for y in tempcomb2:\n",
    "            result.add(y)\n",
    "    for x in comb2(a,b):\n",
    "        tempcomb2 = comb2(c,x)\n",
    "        for y in tempcomb2:\n",
    "            result.add(y)\n",
    "    return(result)"
   ]
  },
  {
   "cell_type": "code",
   "execution_count": 75,
   "metadata": {
    "collapsed": false
   },
   "outputs": [],
   "source": [
    "# comb3(1,2,3)"
   ]
  },
  {
   "cell_type": "code",
   "execution_count": 71,
   "metadata": {
    "collapsed": false
   },
   "outputs": [],
   "source": [
    "def comb4(a,b,c,d):\n",
    "    result = set()\n",
    "    for x in comb3(b,c,d):\n",
    "        tempcomb3 = comb2(a,x)\n",
    "        for y in tempcomb3:\n",
    "            result.add(y)\n",
    "    for x in comb3(a,c,d):\n",
    "        tempcomb3 = comb2(b,x)\n",
    "        for y in tempcomb3:\n",
    "            result.add(y)\n",
    "    for x in comb3(a,b,d):\n",
    "        tempcomb3 = comb2(c,x)\n",
    "        for y in tempcomb3:\n",
    "            result.add(y)\n",
    "    for x in comb3(a,b,c):\n",
    "        tempcomb3 = comb2(d,x)\n",
    "        for y in tempcomb3:\n",
    "            result.add(y)\n",
    "\n",
    "    for x in comb2(a,b):\n",
    "        for y in comb2(c,d):\n",
    "            tempcomb3 = comb2(x,y)\n",
    "            for z in tempcomb3:\n",
    "                result.add(z)\n",
    "    for x in comb2(a,c):\n",
    "        for y in comb2(b,d):\n",
    "            tempcomb3 = comb2(x,y)\n",
    "            for z in tempcomb3:\n",
    "                result.add(z)\n",
    "    for x in comb2(a,d):\n",
    "        for y in comb2(b,c):\n",
    "            tempcomb3 = comb2(x,y)\n",
    "            for z in tempcomb3:\n",
    "                result.add(z)\n",
    "    return(result)"
   ]
  },
  {
   "cell_type": "code",
   "execution_count": 78,
   "metadata": {
    "collapsed": true
   },
   "outputs": [],
   "source": [
    "def getmaxn(a,b,c,d):\n",
    "    i=1\n",
    "    combresult = comb4(a,b,c,d)\n",
    "    while i in combresult:\n",
    "        i+=1\n",
    "    return(i-1)    "
   ]
  },
  {
   "cell_type": "code",
   "execution_count": 79,
   "metadata": {
    "collapsed": false
   },
   "outputs": [
    {
     "data": {
      "text/plain": [
       "28"
      ]
     },
     "execution_count": 79,
     "metadata": {},
     "output_type": "execute_result"
    }
   ],
   "source": [
    "getmaxn(1,2,3,4)"
   ]
  },
  {
   "cell_type": "code",
   "execution_count": 81,
   "metadata": {
    "collapsed": false
   },
   "outputs": [
    {
     "name": "stdout",
     "output_type": "stream",
     "text": [
      "1234 28\n",
      "1238 35\n",
      "1247 37\n",
      "1249 40\n",
      "1256 43\n",
      "1258 51\n"
     ]
    }
   ],
   "source": [
    "max_n = 1\n",
    "for a in range(1,7):\n",
    "    for b in range(a+1,8):\n",
    "        for c in range(b+1,9):\n",
    "            for d in range(c+1,10):\n",
    "                n = getmaxn(a,b,c,d)\n",
    "                if n>max_n:\n",
    "                    max_n=n\n",
    "                    print(str(a)+str(b)+str(c)+str(d),n)\n"
   ]
  },
  {
   "cell_type": "code",
   "execution_count": null,
   "metadata": {
    "collapsed": true
   },
   "outputs": [],
   "source": [
    "# 1258 correct solution @ 2017-03-22 7:33 pm"
   ]
  }
 ],
 "metadata": {
  "anaconda-cloud": {},
  "kernelspec": {
   "display_name": "Python [conda root]",
   "language": "python",
   "name": "conda-root-py"
  },
  "language_info": {
   "codemirror_mode": {
    "name": "ipython",
    "version": 3
   },
   "file_extension": ".py",
   "mimetype": "text/x-python",
   "name": "python",
   "nbconvert_exporter": "python",
   "pygments_lexer": "ipython3",
   "version": "3.5.2"
  }
 },
 "nbformat": 4,
 "nbformat_minor": 1
}
