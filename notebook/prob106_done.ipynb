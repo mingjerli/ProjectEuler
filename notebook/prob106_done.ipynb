{
 "cells": [
  {
   "cell_type": "code",
   "execution_count": 1,
   "metadata": {},
   "outputs": [],
   "source": [
    "from itertools import combinations"
   ]
  },
  {
   "cell_type": "code",
   "execution_count": 25,
   "metadata": {},
   "outputs": [],
   "source": [
    "def get_subset(n):\n",
    "    allcomb = [\n",
    "        (sorted(list(x)),sorted(list(set(range(n))-set(x)))) \n",
    "        for x in combinations(set(range(n)), n//2) \n",
    "        if x[0]==0\n",
    "    ]\n",
    "    allcomb = [(s1,s2) for s1,s2 in allcomb if not all([s1[i]<s2[i] for i in range(len(s1))])]\n",
    "    \n",
    "    return allcomb"
   ]
  },
  {
   "cell_type": "code",
   "execution_count": 42,
   "metadata": {},
   "outputs": [],
   "source": [
    "def factorial(n):\n",
    "    result = 1\n",
    "    for i in range(n):\n",
    "        result*=i+1\n",
    "    return result    "
   ]
  },
  {
   "cell_type": "code",
   "execution_count": 58,
   "metadata": {},
   "outputs": [],
   "source": [
    "def specialsubset_metatestingset(n):\n",
    "    if n<4:\n",
    "        return 0\n",
    "    else:\n",
    "        result = 0\n",
    "        for i in range(4,n+1,2):\n",
    "            cnm = factorial(n)//factorial(i)//factorial(n-i)\n",
    "            subset = get_subset(i)\n",
    "            result += cnm*len(subset)\n",
    "            print(i, cnm, len(subset), cnm*len(subset), result)"
   ]
  },
  {
   "cell_type": "code",
   "execution_count": 59,
   "metadata": {},
   "outputs": [
    {
     "name": "stdout",
     "output_type": "stream",
     "text": [
      "4 1 1 1 1\n"
     ]
    }
   ],
   "source": [
    "specialsubset_metatestingset(4)"
   ]
  },
  {
   "cell_type": "code",
   "execution_count": 60,
   "metadata": {},
   "outputs": [
    {
     "name": "stdout",
     "output_type": "stream",
     "text": [
      "4 35 1 35 35\n",
      "6 7 5 35 70\n"
     ]
    }
   ],
   "source": [
    "specialsubset_metatestingset(7)"
   ]
  },
  {
   "cell_type": "code",
   "execution_count": 61,
   "metadata": {},
   "outputs": [
    {
     "name": "stdout",
     "output_type": "stream",
     "text": [
      "4 495 1 495 495\n",
      "6 924 5 4620 5115\n",
      "8 495 21 10395 15510\n",
      "10 66 84 5544 21054\n",
      "12 1 330 330 21384\n"
     ]
    }
   ],
   "source": [
    "specialsubset_metatestingset(12)"
   ]
  },
  {
   "cell_type": "code",
   "execution_count": null,
   "metadata": {},
   "outputs": [],
   "source": []
  }
 ],
 "metadata": {
  "kernelspec": {
   "display_name": "Python 3",
   "language": "python",
   "name": "python3"
  },
  "language_info": {
   "codemirror_mode": {
    "name": "ipython",
    "version": 3
   },
   "file_extension": ".py",
   "mimetype": "text/x-python",
   "name": "python",
   "nbconvert_exporter": "python",
   "pygments_lexer": "ipython3",
   "version": "3.8.5"
  }
 },
 "nbformat": 4,
 "nbformat_minor": 4
}
