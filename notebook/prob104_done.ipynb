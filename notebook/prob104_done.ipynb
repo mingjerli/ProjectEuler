{
 "cells": [
  {
   "cell_type": "code",
   "execution_count": 40,
   "metadata": {},
   "outputs": [],
   "source": [
    "import datetime"
   ]
  },
  {
   "cell_type": "code",
   "execution_count": 41,
   "metadata": {},
   "outputs": [],
   "source": [
    "def get_fib(n):\n",
    "    fib ={1:1, 2:1}\n",
    "    for i in range(3,n+1):\n",
    "        fib[i]=fib[i-1]+fib[i-2]\n",
    "    return fib[n]"
   ]
  },
  {
   "cell_type": "code",
   "execution_count": 42,
   "metadata": {},
   "outputs": [],
   "source": [
    "def find_result():\n",
    "    i1,i2=1,1\n",
    "    k = 3\n",
    "    while True:\n",
    "        i3 = i1 + i2\n",
    "        i3str = str(i3)\n",
    "#         if ''.join(sorted(i3str[:9]))=='123456789':\n",
    "#             break\n",
    "#         if ''.join(sorted(i3str[-9:]))=='123456789':\n",
    "#             break\n",
    "        if ''.join(sorted(i3str[:9]))=='123456789' and ''.join(sorted(i3str[-9:]))=='123456789':\n",
    "            break\n",
    "        k+=1\n",
    "        i1=i2\n",
    "        i2=i3\n",
    "        if k%10**4==0:\n",
    "            print(datetime.datetime.now(), k, len(i3str))\n",
    "    \n",
    "    return k"
   ]
  },
  {
   "cell_type": "code",
   "execution_count": 43,
   "metadata": {},
   "outputs": [
    {
     "name": "stdout",
     "output_type": "stream",
     "text": [
      "2020-11-17 15:52:19.314195 10000 2090\n",
      "2020-11-17 15:52:20.500686 20000 4180\n",
      "2020-11-17 15:52:23.661114 30000 6270\n",
      "2020-11-17 15:52:29.759726 40000 8359\n",
      "2020-11-17 15:52:39.761778 50000 10449\n",
      "2020-11-17 15:52:54.640447 60000 12539\n",
      "2020-11-17 15:53:15.335265 70000 14629\n",
      "2020-11-17 15:53:42.823795 80000 16719\n",
      "2020-11-17 15:54:18.077528 90000 18809\n",
      "2020-11-17 15:55:02.037341 100000 20899\n",
      "2020-11-17 15:55:55.695029 110000 22989\n",
      "2020-11-17 15:56:59.983271 120000 25078\n",
      "2020-11-17 15:58:15.894529 130000 27168\n",
      "2020-11-17 15:59:44.381075 140000 29258\n",
      "2020-11-17 16:01:26.394556 150000 31348\n",
      "2020-11-17 16:03:22.915227 160000 33438\n",
      "2020-11-17 16:05:34.915151 170000 35528\n",
      "2020-11-17 16:08:03.332976 180000 37618\n",
      "2020-11-17 16:10:49.156265 190000 39708\n",
      "2020-11-17 16:13:53.327022 200000 41797\n",
      "2020-11-17 16:17:16.814828 210000 43887\n",
      "2020-11-17 16:21:00.579056 220000 45977\n",
      "2020-11-17 16:25:05.618925 230000 48067\n",
      "2020-11-17 16:29:32.863478 240000 50157\n",
      "2020-11-17 16:34:23.281301 250000 52247\n",
      "2020-11-17 16:39:37.843929 260000 54337\n",
      "2020-11-17 16:45:17.508964 270000 56427\n",
      "2020-11-17 16:51:23.229342 280000 58516\n",
      "2020-11-17 16:57:56.001636 290000 60606\n",
      "2020-11-17 17:04:56.791227 300000 62696\n",
      "2020-11-17 17:12:26.522876 310000 64786\n",
      "2020-11-17 17:20:26.200770 320000 66876\n"
     ]
    },
    {
     "data": {
      "text/plain": [
       "329468"
      ]
     },
     "execution_count": 43,
     "metadata": {},
     "output_type": "execute_result"
    }
   ],
   "source": [
    "find_result()"
   ]
  },
  {
   "cell_type": "code",
   "execution_count": null,
   "metadata": {},
   "outputs": [],
   "source": []
  }
 ],
 "metadata": {
  "kernelspec": {
   "display_name": "Python 3",
   "language": "python",
   "name": "python3"
  },
  "language_info": {
   "codemirror_mode": {
    "name": "ipython",
    "version": 3
   },
   "file_extension": ".py",
   "mimetype": "text/x-python",
   "name": "python",
   "nbconvert_exporter": "python",
   "pygments_lexer": "ipython3",
   "version": "3.8.5"
  }
 },
 "nbformat": 4,
 "nbformat_minor": 4
}
