{
 "cells": [
  {
   "cell_type": "code",
   "execution_count": 1,
   "metadata": {
    "collapsed": false,
    "scrolled": true
   },
   "outputs": [
    {
     "name": "stdout",
     "output_type": "stream",
     "text": [
      "1 0\n",
      "2 0\n",
      "3 2\n",
      "4 3\n",
      "5 3\n",
      "6 6\n",
      "7 6\n",
      "8 10\n",
      "9 14\n",
      "10 14\n",
      "11 14\n",
      "12 25\n",
      "13 25\n",
      "14 25\n",
      "15 35\n",
      "16 43\n",
      "17 43\n",
      "18 50\n",
      "19 50\n",
      "20 67\n",
      "21 85\n",
      "22 85\n",
      "23 85\n",
      "24 113\n",
      "25 113\n",
      "26 113\n",
      "27 123\n",
      "28 139\n",
      "29 139\n",
      "30 158\n",
      "31 158\n",
      "32 173\n",
      "33 191\n",
      "34 191\n",
      "35 197\n",
      "36 230\n",
      "37 230\n",
      "38 230\n",
      "39 244\n",
      "40 286\n",
      "41 286\n",
      "42 321\n",
      "43 321\n",
      "44 337\n",
      "45 379\n",
      "46 379\n",
      "47 379\n",
      "48 456\n",
      "49 456\n",
      "50 456\n",
      "51 474\n",
      "52 493\n",
      "53 493\n",
      "54 512\n",
      "55 536\n",
      "56 589\n",
      "57 609\n",
      "58 609\n",
      "59 609\n",
      "60 729\n",
      "61 729\n",
      "62 729\n",
      "63 789\n",
      "64 818\n",
      "65 848\n",
      "66 882\n",
      "67 882\n",
      "68 907\n",
      "69 931\n",
      "70 943\n",
      "71 943\n",
      "72 1057\n",
      "73 1057\n",
      "74 1057\n",
      "75 1103\n",
      "76 1131\n",
      "77 1149\n",
      "78 1176\n",
      "79 1176\n",
      "80 1279\n",
      "81 1307\n",
      "82 1307\n",
      "83 1307\n",
      "84 1447\n",
      "85 1467\n",
      "86 1467\n",
      "87 1497\n",
      "88 1572\n",
      "89 1572\n",
      "90 1655\n",
      "91 1685\n",
      "92 1719\n",
      "93 1751\n",
      "94 1751\n",
      "95 1763\n",
      "96 1915\n",
      "97 1915\n",
      "98 1915\n",
      "99 1975\n",
      "100 2060\n"
     ]
    }
   ],
   "source": [
    "# Test problem\n",
    "\n",
    "M = 100\n",
    "result = [0 for _ in range(M)]\n",
    "count = 0\n",
    "\n",
    "for N1 in range(1,M+1):\n",
    "    squarenumbers = [i*i for i in range(1,3*N1)]\n",
    "    for N2 in range(1,N1+1):\n",
    "        for N3 in range(1,N2+1):\n",
    "            testvalues = min([(N1+N2)*(N1+N2)+N3*N3,(N2+N3)*(N2+N3)+N1*N1,(N3+N1)*(N3+N1)+N2*N2])\n",
    "            if testvalues in squarenumbers:\n",
    "                count+=1\n",
    "    result[N1-1] = count\n",
    "    print(N1, count)\n"
   ]
  },
  {
   "cell_type": "code",
   "execution_count": 2,
   "metadata": {
    "collapsed": true
   },
   "outputs": [],
   "source": [
    "def isSquare(x):\n",
    "\tif x == 1:\n",
    "\t\treturn True\n",
    "\tlow = 0\n",
    "\thigh = x // 2\n",
    "\troot = high\n",
    "\twhile root * root != x:\n",
    "\t\troot = (low + high) // 2\n",
    "\t\tif low +1 >= high:\n",
    "\t\t\treturn False\n",
    "\t\tif root * root > x:\n",
    "\t\t\thigh = root\n",
    "\t\telse:\n",
    "\t\t\tlow = root\n",
    "\treturn True"
   ]
  },
  {
   "cell_type": "code",
   "execution_count": null,
   "metadata": {
    "collapsed": true
   },
   "outputs": [],
   "source": [
    "target = 10**6\n",
    "count = 0\n",
    "N1 = 1\n",
    "\n",
    "while count < target:\n",
    "#     squarenumbers = [i*i for i in range(1,3*N1)]\n",
    "    for N2 in range(1,N1+1):\n",
    "        for N3 in range(1,N2+1):\n",
    "            testvalues = min([(N1+N2)*(N1+N2)+N3*N3,(N2+N3)*(N2+N3)+N1*N1,(N3+N1)*(N3+N1)+N2*N2])\n",
    "            if isSquare(testvalues):\n",
    "                count+=1\n",
    "#     print(N1, count)\n",
    "    if N1% 10**2 ==0:\n",
    "        print(N1, count)\n",
    "    N1 += 1"
   ]
  },
  {
   "cell_type": "code",
   "execution_count": 4,
   "metadata": {
    "collapsed": false
   },
   "outputs": [
    {
     "name": "stdout",
     "output_type": "stream",
     "text": [
      "1818\n"
     ]
    }
   ],
   "source": [
    "print(N1-1)"
   ]
  },
  {
   "cell_type": "code",
   "execution_count": null,
   "metadata": {
    "collapsed": true
   },
   "outputs": [],
   "source": [
    "# 1818 correct solution"
   ]
  }
 ],
 "metadata": {
  "anaconda-cloud": {},
  "kernelspec": {
   "display_name": "Python [conda root]",
   "language": "python",
   "name": "conda-root-py"
  },
  "language_info": {
   "codemirror_mode": {
    "name": "ipython",
    "version": 3
   },
   "file_extension": ".py",
   "mimetype": "text/x-python",
   "name": "python",
   "nbconvert_exporter": "python",
   "pygments_lexer": "ipython3",
   "version": "3.5.2"
  }
 },
 "nbformat": 4,
 "nbformat_minor": 1
}
