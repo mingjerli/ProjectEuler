{
 "cells": [
  {
   "cell_type": "code",
   "execution_count": 85,
   "metadata": {
    "collapsed": true
   },
   "outputs": [],
   "source": [
    "from time import time"
   ]
  },
  {
   "cell_type": "code",
   "execution_count": 86,
   "metadata": {
    "collapsed": true
   },
   "outputs": [],
   "source": [
    "def cf(n):\n",
    "    from math import sqrt\n",
    "    from math import gcd\n",
    "    result = list()\n",
    "    a = list()\n",
    "    sqrtn = sqrt(n)\n",
    "    ai = int(sqrtn)\n",
    "    a.append(ai)\n",
    "    xi,yi,di = 1,-ai,1\n",
    "    result.append((xi,yi,di))\n",
    "    if ai*ai == n:\n",
    "        return(([ai],))\n",
    "    else:\n",
    "        found = False\n",
    "        while not found:\n",
    "            xt,yt,dt = di*xi, -di*yi, n*xi*xi-yi*yi\n",
    "            gcdxyd = gcd(gcd(xt,dt),gcd(yt,dt))\n",
    "            xi,yi,di = xt//gcdxyd, yt//gcdxyd, dt//gcdxyd\n",
    "            ai = int( (xi*sqrtn+yi)/di)\n",
    "            yi -= ai*di\n",
    "            if (xi,yi,di) in result:\n",
    "                found = True\n",
    "            result.append((xi,yi,di))\n",
    "            a.append(ai)\n",
    "        return(a,result)\n"
   ]
  },
  {
   "cell_type": "code",
   "execution_count": 87,
   "metadata": {
    "collapsed": false
   },
   "outputs": [
    {
     "name": "stdout",
     "output_type": "stream",
     "text": [
      "1322 0.732548713684082\n"
     ]
    }
   ],
   "source": [
    "t0 = time()\n",
    "count = 0 \n",
    "N = 10000\n",
    "for i in range(1,N+1):\n",
    "    cfi = cf(i)\n",
    "    if len(cfi) > 1:\n",
    "        if len(cfi[0]) %2 ==0:\n",
    "            count+=1\n",
    "\n",
    "print(count,time()-t0)"
   ]
  },
  {
   "cell_type": "code",
   "execution_count": 88,
   "metadata": {
    "collapsed": true
   },
   "outputs": [],
   "source": [
    "def cf(n):\n",
    "    from math import sqrt\n",
    "    from math import gcd\n",
    "    result = list()\n",
    "    a = list()\n",
    "    sqrtn = sqrt(n)\n",
    "    ai = int(sqrtn)\n",
    "    a.append(ai)\n",
    "    xi,yi,di = 1,-ai,1\n",
    "    result.append((xi,yi,di))\n",
    "    if ai*ai == n:\n",
    "        return([ai])\n",
    "    else:\n",
    "        found = False\n",
    "        while not found:\n",
    "            xt,yt,dt = di*xi, -di*yi, n*xi*xi-yi*yi\n",
    "            gcdxyd = gcd(gcd(xt,dt),gcd(yt,dt))\n",
    "            xi,yi,di = xt//gcdxyd, yt//gcdxyd, dt//gcdxyd\n",
    "            ai = int( (xi*sqrtn+yi)/di)\n",
    "            yi -= ai*di\n",
    "            if (xi,yi,di) in result:\n",
    "                found = True\n",
    "            result.append((xi,yi,di))\n",
    "            a.append(ai)\n",
    "        return(a)\n"
   ]
  },
  {
   "cell_type": "code",
   "execution_count": 90,
   "metadata": {
    "collapsed": false
   },
   "outputs": [
    {
     "name": "stdout",
     "output_type": "stream",
     "text": [
      "1322 0.7153916358947754\n"
     ]
    }
   ],
   "source": [
    "t0 = time()\n",
    "count = 0 \n",
    "N = 10000\n",
    "for i in range(1,N+1):\n",
    "    cfi = cf(i)\n",
    "    if len(cfi) %2 ==0:\n",
    "        count+=1\n",
    "\n",
    "print(count,time()-t0)"
   ]
  },
  {
   "cell_type": "code",
   "execution_count": null,
   "metadata": {
    "collapsed": true
   },
   "outputs": [],
   "source": [
    "# 1322 correct answer"
   ]
  }
 ],
 "metadata": {
  "kernelspec": {
   "display_name": "Python [conda root]",
   "language": "python",
   "name": "conda-root-py"
  },
  "language_info": {
   "codemirror_mode": {
    "name": "ipython",
    "version": 3
   },
   "file_extension": ".py",
   "mimetype": "text/x-python",
   "name": "python",
   "nbconvert_exporter": "python",
   "pygments_lexer": "ipython3",
   "version": "3.5.2"
  }
 },
 "nbformat": 4,
 "nbformat_minor": 1
}
