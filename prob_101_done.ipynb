{
 "cells": [
  {
   "cell_type": "code",
   "execution_count": 22,
   "metadata": {
    "collapsed": true
   },
   "outputs": [],
   "source": [
    "from math import sqrt\n",
    "from time import time\n",
    "import numpy as np"
   ]
  },
  {
   "cell_type": "code",
   "execution_count": 63,
   "metadata": {
    "collapsed": true
   },
   "outputs": [],
   "source": [
    "def un(n):\n",
    "    result = sum([(-n)**i for i in range(11) ])\n",
    "    return(result)\n",
    "\n",
    "# def un(n):\n",
    "#     result = n**3\n",
    "#     return(result)\n",
    "\n"
   ]
  },
  {
   "cell_type": "code",
   "execution_count": 64,
   "metadata": {
    "collapsed": false
   },
   "outputs": [],
   "source": [
    "an = [un(i) for i in range(1,11)]"
   ]
  },
  {
   "cell_type": "code",
   "execution_count": 65,
   "metadata": {
    "collapsed": false
   },
   "outputs": [
    {
     "data": {
      "text/plain": [
       "[1,\n",
       " 683,\n",
       " 44287,\n",
       " 838861,\n",
       " 8138021,\n",
       " 51828151,\n",
       " 247165843,\n",
       " 954437177,\n",
       " 3138105961,\n",
       " 9090909091]"
      ]
     },
     "execution_count": 65,
     "metadata": {},
     "output_type": "execute_result"
    }
   ],
   "source": [
    "an"
   ]
  },
  {
   "cell_type": "code",
   "execution_count": 66,
   "metadata": {
    "collapsed": false
   },
   "outputs": [],
   "source": [
    "def fnscoef(n):\n",
    "    result = list()\n",
    "    for xi in range(1, n+1):\n",
    "        xjs = [xj for xj in range(1,n+1) if xj!=xi]\n",
    "#         print(xi,xjs, np.prod([n+1-xj for xj in xjs])/np.prod([xi-xj for xj in xjs]))\n",
    "#         print(xi, xjs, )\n",
    "        result.append((np.prod([(n+1)-xj for xj in xjs]), np.prod([xi-xj for xj in xjs])))\n",
    "    return(result)"
   ]
  },
  {
   "cell_type": "code",
   "execution_count": 67,
   "metadata": {
    "collapsed": false
   },
   "outputs": [
    {
     "data": {
      "text/plain": [
       "[(2, 2), (3, -1), (6, 2)]"
      ]
     },
     "execution_count": 67,
     "metadata": {},
     "output_type": "execute_result"
    }
   ],
   "source": [
    "fnscoef(3)"
   ]
  },
  {
   "cell_type": "code",
   "execution_count": 68,
   "metadata": {
    "collapsed": true
   },
   "outputs": [],
   "source": [
    "def FIT(n):\n",
    "    ans = [un(i) for i in range(1,n+1)]\n",
    "    fns = fnscoef(n)\n",
    "    result = np.int64(np.sum([ans[i]*fns[i][0]/fns[i][1] for i in range(n)]))\n",
    "    return(result)"
   ]
  },
  {
   "cell_type": "code",
   "execution_count": 69,
   "metadata": {
    "collapsed": false
   },
   "outputs": [
    {
     "name": "stdout",
     "output_type": "stream",
     "text": [
      "1 1 1\n",
      "2 1365 1366\n",
      "3 130813 132179\n",
      "4 3092453 3224632\n",
      "5 32740951 35965583\n",
      "6 205015603 240981186\n",
      "7 898165577 1139146763\n",
      "8 3093310441 4232457204\n",
      "9 9071313571 13303770775\n",
      "10 23772343751 37076114526\n"
     ]
    }
   ],
   "source": [
    "result = 0\n",
    "for i in range(1,11):\n",
    "    fiti = FIT(i)\n",
    "    result += fiti\n",
    "    print(i,fiti,result)"
   ]
  },
  {
   "cell_type": "code",
   "execution_count": null,
   "metadata": {
    "collapsed": true
   },
   "outputs": [],
   "source": []
  }
 ],
 "metadata": {
  "kernelspec": {
   "display_name": "Python 3",
   "language": "python",
   "name": "python3"
  },
  "language_info": {
   "codemirror_mode": {
    "name": "ipython",
    "version": 3
   },
   "file_extension": ".py",
   "mimetype": "text/x-python",
   "name": "python",
   "nbconvert_exporter": "python",
   "pygments_lexer": "ipython3",
   "version": "3.6.0"
  }
 },
 "nbformat": 4,
 "nbformat_minor": 2
}
